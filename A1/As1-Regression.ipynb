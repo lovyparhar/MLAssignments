{
 "cells": [
  {
   "cell_type": "markdown",
   "id": "42fab544",
   "metadata": {},
   "source": [
    "# ASSIGNMENT 1 - Linear Regression\n",
    "----------------\n",
    "----------------"
   ]
  },
  {
   "cell_type": "markdown",
   "id": "d902c0bf",
   "metadata": {},
   "source": [
    "## A. Data Preprocessing\n",
    "-----"
   ]
  },
  {
   "cell_type": "markdown",
   "id": "89f88aaa",
   "metadata": {},
   "source": [
    "### Imports and visualisation of the structure"
   ]
  },
  {
   "cell_type": "code",
   "execution_count": 1,
   "id": "a436a72c",
   "metadata": {},
   "outputs": [],
   "source": [
    "import numpy as np\n",
    "import pandas as pd \n",
    "import matplotlib.pyplot as plt \n",
    "import seaborn as sns\n",
    "\n",
    "main_df = pd.read_csv(\"Regression/Co2EmissionDataset.csv\")"
   ]
  },
  {
   "cell_type": "code",
   "execution_count": 2,
   "id": "cd1a4e5b",
   "metadata": {},
   "outputs": [
    {
     "data": {
      "text/html": [
       "<div>\n",
       "<style scoped>\n",
       "    .dataframe tbody tr th:only-of-type {\n",
       "        vertical-align: middle;\n",
       "    }\n",
       "\n",
       "    .dataframe tbody tr th {\n",
       "        vertical-align: top;\n",
       "    }\n",
       "\n",
       "    .dataframe thead th {\n",
       "        text-align: right;\n",
       "    }\n",
       "</style>\n",
       "<table border=\"1\" class=\"dataframe\">\n",
       "  <thead>\n",
       "    <tr style=\"text-align: right;\">\n",
       "      <th></th>\n",
       "      <th>Make</th>\n",
       "      <th>Model</th>\n",
       "      <th>Vehicle Class</th>\n",
       "      <th>Engine Size(L)</th>\n",
       "      <th>Cylinders</th>\n",
       "      <th>Transmission</th>\n",
       "      <th>Fuel Type</th>\n",
       "      <th>Fuel Consumption City (L/100 km)</th>\n",
       "      <th>Fuel Consumption Hwy (L/100 km)</th>\n",
       "      <th>Fuel Consumption Comb (L/100 km)</th>\n",
       "      <th>Fuel Consumption Comb (mpg)</th>\n",
       "      <th>CO2 Emissions(g/km)</th>\n",
       "    </tr>\n",
       "  </thead>\n",
       "  <tbody>\n",
       "    <tr>\n",
       "      <th>0</th>\n",
       "      <td>ACURA</td>\n",
       "      <td>ILX</td>\n",
       "      <td>COMPACT</td>\n",
       "      <td>2.0</td>\n",
       "      <td>4</td>\n",
       "      <td>AS5</td>\n",
       "      <td>Z</td>\n",
       "      <td>9.9</td>\n",
       "      <td>6.7</td>\n",
       "      <td>8.5</td>\n",
       "      <td>33</td>\n",
       "      <td>196</td>\n",
       "    </tr>\n",
       "    <tr>\n",
       "      <th>1</th>\n",
       "      <td>ACURA</td>\n",
       "      <td>ILX</td>\n",
       "      <td>COMPACT</td>\n",
       "      <td>2.4</td>\n",
       "      <td>4</td>\n",
       "      <td>M6</td>\n",
       "      <td>Z</td>\n",
       "      <td>11.2</td>\n",
       "      <td>7.7</td>\n",
       "      <td>9.6</td>\n",
       "      <td>29</td>\n",
       "      <td>221</td>\n",
       "    </tr>\n",
       "    <tr>\n",
       "      <th>2</th>\n",
       "      <td>ACURA</td>\n",
       "      <td>ILX HYBRID</td>\n",
       "      <td>COMPACT</td>\n",
       "      <td>1.5</td>\n",
       "      <td>4</td>\n",
       "      <td>AV7</td>\n",
       "      <td>Z</td>\n",
       "      <td>6.0</td>\n",
       "      <td>5.8</td>\n",
       "      <td>5.9</td>\n",
       "      <td>48</td>\n",
       "      <td>136</td>\n",
       "    </tr>\n",
       "    <tr>\n",
       "      <th>3</th>\n",
       "      <td>ACURA</td>\n",
       "      <td>MDX 4WD</td>\n",
       "      <td>SUV - SMALL</td>\n",
       "      <td>3.5</td>\n",
       "      <td>6</td>\n",
       "      <td>AS6</td>\n",
       "      <td>Z</td>\n",
       "      <td>12.7</td>\n",
       "      <td>9.1</td>\n",
       "      <td>11.1</td>\n",
       "      <td>25</td>\n",
       "      <td>255</td>\n",
       "    </tr>\n",
       "    <tr>\n",
       "      <th>4</th>\n",
       "      <td>ACURA</td>\n",
       "      <td>RDX AWD</td>\n",
       "      <td>SUV - SMALL</td>\n",
       "      <td>3.5</td>\n",
       "      <td>6</td>\n",
       "      <td>AS6</td>\n",
       "      <td>Z</td>\n",
       "      <td>12.1</td>\n",
       "      <td>8.7</td>\n",
       "      <td>10.6</td>\n",
       "      <td>27</td>\n",
       "      <td>244</td>\n",
       "    </tr>\n",
       "  </tbody>\n",
       "</table>\n",
       "</div>"
      ],
      "text/plain": [
       "    Make       Model Vehicle Class  Engine Size(L)  Cylinders Transmission  \\\n",
       "0  ACURA         ILX       COMPACT             2.0          4          AS5   \n",
       "1  ACURA         ILX       COMPACT             2.4          4           M6   \n",
       "2  ACURA  ILX HYBRID       COMPACT             1.5          4          AV7   \n",
       "3  ACURA     MDX 4WD   SUV - SMALL             3.5          6          AS6   \n",
       "4  ACURA     RDX AWD   SUV - SMALL             3.5          6          AS6   \n",
       "\n",
       "  Fuel Type  Fuel Consumption City (L/100 km)  \\\n",
       "0         Z                               9.9   \n",
       "1         Z                              11.2   \n",
       "2         Z                               6.0   \n",
       "3         Z                              12.7   \n",
       "4         Z                              12.1   \n",
       "\n",
       "   Fuel Consumption Hwy (L/100 km)  Fuel Consumption Comb (L/100 km)  \\\n",
       "0                              6.7                               8.5   \n",
       "1                              7.7                               9.6   \n",
       "2                              5.8                               5.9   \n",
       "3                              9.1                              11.1   \n",
       "4                              8.7                              10.6   \n",
       "\n",
       "   Fuel Consumption Comb (mpg)  CO2 Emissions(g/km)  \n",
       "0                           33                  196  \n",
       "1                           29                  221  \n",
       "2                           48                  136  \n",
       "3                           25                  255  \n",
       "4                           27                  244  "
      ]
     },
     "execution_count": 2,
     "metadata": {},
     "output_type": "execute_result"
    }
   ],
   "source": [
    "# Getting the gist of the data\n",
    "main_df.head(5)"
   ]
  },
  {
   "cell_type": "code",
   "execution_count": 3,
   "id": "f57ac3de",
   "metadata": {
    "scrolled": true
   },
   "outputs": [
    {
     "data": {
      "text/html": [
       "<div>\n",
       "<style scoped>\n",
       "    .dataframe tbody tr th:only-of-type {\n",
       "        vertical-align: middle;\n",
       "    }\n",
       "\n",
       "    .dataframe tbody tr th {\n",
       "        vertical-align: top;\n",
       "    }\n",
       "\n",
       "    .dataframe thead th {\n",
       "        text-align: right;\n",
       "    }\n",
       "</style>\n",
       "<table border=\"1\" class=\"dataframe\">\n",
       "  <thead>\n",
       "    <tr style=\"text-align: right;\">\n",
       "      <th></th>\n",
       "      <th>Engine Size(L)</th>\n",
       "      <th>Cylinders</th>\n",
       "      <th>Fuel Consumption City (L/100 km)</th>\n",
       "      <th>Fuel Consumption Hwy (L/100 km)</th>\n",
       "      <th>Fuel Consumption Comb (L/100 km)</th>\n",
       "      <th>Fuel Consumption Comb (mpg)</th>\n",
       "      <th>CO2 Emissions(g/km)</th>\n",
       "    </tr>\n",
       "  </thead>\n",
       "  <tbody>\n",
       "    <tr>\n",
       "      <th>Engine Size(L)</th>\n",
       "      <td>1.000000</td>\n",
       "      <td>0.927653</td>\n",
       "      <td>0.831379</td>\n",
       "      <td>0.761526</td>\n",
       "      <td>0.817060</td>\n",
       "      <td>-0.757854</td>\n",
       "      <td>0.851145</td>\n",
       "    </tr>\n",
       "    <tr>\n",
       "      <th>Cylinders</th>\n",
       "      <td>0.927653</td>\n",
       "      <td>1.000000</td>\n",
       "      <td>0.800702</td>\n",
       "      <td>0.715252</td>\n",
       "      <td>0.780534</td>\n",
       "      <td>-0.719321</td>\n",
       "      <td>0.832644</td>\n",
       "    </tr>\n",
       "    <tr>\n",
       "      <th>Fuel Consumption City (L/100 km)</th>\n",
       "      <td>0.831379</td>\n",
       "      <td>0.800702</td>\n",
       "      <td>1.000000</td>\n",
       "      <td>0.948180</td>\n",
       "      <td>0.993810</td>\n",
       "      <td>-0.927059</td>\n",
       "      <td>0.919592</td>\n",
       "    </tr>\n",
       "    <tr>\n",
       "      <th>Fuel Consumption Hwy (L/100 km)</th>\n",
       "      <td>0.761526</td>\n",
       "      <td>0.715252</td>\n",
       "      <td>0.948180</td>\n",
       "      <td>1.000000</td>\n",
       "      <td>0.977299</td>\n",
       "      <td>-0.890638</td>\n",
       "      <td>0.883536</td>\n",
       "    </tr>\n",
       "    <tr>\n",
       "      <th>Fuel Consumption Comb (L/100 km)</th>\n",
       "      <td>0.817060</td>\n",
       "      <td>0.780534</td>\n",
       "      <td>0.993810</td>\n",
       "      <td>0.977299</td>\n",
       "      <td>1.000000</td>\n",
       "      <td>-0.925576</td>\n",
       "      <td>0.918052</td>\n",
       "    </tr>\n",
       "    <tr>\n",
       "      <th>Fuel Consumption Comb (mpg)</th>\n",
       "      <td>-0.757854</td>\n",
       "      <td>-0.719321</td>\n",
       "      <td>-0.927059</td>\n",
       "      <td>-0.890638</td>\n",
       "      <td>-0.925576</td>\n",
       "      <td>1.000000</td>\n",
       "      <td>-0.907426</td>\n",
       "    </tr>\n",
       "    <tr>\n",
       "      <th>CO2 Emissions(g/km)</th>\n",
       "      <td>0.851145</td>\n",
       "      <td>0.832644</td>\n",
       "      <td>0.919592</td>\n",
       "      <td>0.883536</td>\n",
       "      <td>0.918052</td>\n",
       "      <td>-0.907426</td>\n",
       "      <td>1.000000</td>\n",
       "    </tr>\n",
       "  </tbody>\n",
       "</table>\n",
       "</div>"
      ],
      "text/plain": [
       "                                  Engine Size(L)  Cylinders  \\\n",
       "Engine Size(L)                          1.000000   0.927653   \n",
       "Cylinders                               0.927653   1.000000   \n",
       "Fuel Consumption City (L/100 km)        0.831379   0.800702   \n",
       "Fuel Consumption Hwy (L/100 km)         0.761526   0.715252   \n",
       "Fuel Consumption Comb (L/100 km)        0.817060   0.780534   \n",
       "Fuel Consumption Comb (mpg)            -0.757854  -0.719321   \n",
       "CO2 Emissions(g/km)                     0.851145   0.832644   \n",
       "\n",
       "                                  Fuel Consumption City (L/100 km)  \\\n",
       "Engine Size(L)                                            0.831379   \n",
       "Cylinders                                                 0.800702   \n",
       "Fuel Consumption City (L/100 km)                          1.000000   \n",
       "Fuel Consumption Hwy (L/100 km)                           0.948180   \n",
       "Fuel Consumption Comb (L/100 km)                          0.993810   \n",
       "Fuel Consumption Comb (mpg)                              -0.927059   \n",
       "CO2 Emissions(g/km)                                       0.919592   \n",
       "\n",
       "                                  Fuel Consumption Hwy (L/100 km)  \\\n",
       "Engine Size(L)                                           0.761526   \n",
       "Cylinders                                                0.715252   \n",
       "Fuel Consumption City (L/100 km)                         0.948180   \n",
       "Fuel Consumption Hwy (L/100 km)                          1.000000   \n",
       "Fuel Consumption Comb (L/100 km)                         0.977299   \n",
       "Fuel Consumption Comb (mpg)                             -0.890638   \n",
       "CO2 Emissions(g/km)                                      0.883536   \n",
       "\n",
       "                                  Fuel Consumption Comb (L/100 km)  \\\n",
       "Engine Size(L)                                            0.817060   \n",
       "Cylinders                                                 0.780534   \n",
       "Fuel Consumption City (L/100 km)                          0.993810   \n",
       "Fuel Consumption Hwy (L/100 km)                           0.977299   \n",
       "Fuel Consumption Comb (L/100 km)                          1.000000   \n",
       "Fuel Consumption Comb (mpg)                              -0.925576   \n",
       "CO2 Emissions(g/km)                                       0.918052   \n",
       "\n",
       "                                  Fuel Consumption Comb (mpg)  \\\n",
       "Engine Size(L)                                      -0.757854   \n",
       "Cylinders                                           -0.719321   \n",
       "Fuel Consumption City (L/100 km)                    -0.927059   \n",
       "Fuel Consumption Hwy (L/100 km)                     -0.890638   \n",
       "Fuel Consumption Comb (L/100 km)                    -0.925576   \n",
       "Fuel Consumption Comb (mpg)                          1.000000   \n",
       "CO2 Emissions(g/km)                                 -0.907426   \n",
       "\n",
       "                                  CO2 Emissions(g/km)  \n",
       "Engine Size(L)                               0.851145  \n",
       "Cylinders                                    0.832644  \n",
       "Fuel Consumption City (L/100 km)             0.919592  \n",
       "Fuel Consumption Hwy (L/100 km)              0.883536  \n",
       "Fuel Consumption Comb (L/100 km)             0.918052  \n",
       "Fuel Consumption Comb (mpg)                 -0.907426  \n",
       "CO2 Emissions(g/km)                          1.000000  "
      ]
     },
     "execution_count": 3,
     "metadata": {},
     "output_type": "execute_result"
    }
   ],
   "source": [
    "main_df.corr()"
   ]
  },
  {
   "cell_type": "code",
   "execution_count": 4,
   "id": "db1adb36",
   "metadata": {},
   "outputs": [
    {
     "data": {
      "text/plain": [
       "<AxesSubplot:>"
      ]
     },
     "execution_count": 4,
     "metadata": {},
     "output_type": "execute_result"
    },
    {
     "data": {
      "image/png": "[encoded data removed]",
      "text/plain": [
       "<Figure size 432x288 with 2 Axes>"
      ]
     },
     "metadata": {
      "needs_background": "light"
     },
     "output_type": "display_data"
    }
   ],
   "source": [
    "sns.heatmap(main_df.corr())"
   ]
  },
  {
   "cell_type": "markdown",
   "id": "47c3434f",
   "metadata": {},
   "source": [
    "As there is very high correlation between the features themselves and a high correlation between the target varaible, a smaller group of features can do good prediction. We will try to select such a group later."
   ]
  },
  {
   "cell_type": "markdown",
   "id": "dd0a3d03",
   "metadata": {},
   "source": [
    "### Checking Null values"
   ]
  },
  {
   "cell_type": "code",
   "execution_count": 5,
   "id": "30e12e2f",
   "metadata": {},
   "outputs": [
    {
     "data": {
      "text/plain": [
       "Make                                0\n",
       "Model                               0\n",
       "Vehicle Class                       0\n",
       "Engine Size(L)                      0\n",
       "Cylinders                           0\n",
       "Transmission                        0\n",
       "Fuel Type                           0\n",
       "Fuel Consumption City (L/100 km)    0\n",
       "Fuel Consumption Hwy (L/100 km)     0\n",
       "Fuel Consumption Comb (L/100 km)    0\n",
       "Fuel Consumption Comb (mpg)         0\n",
       "CO2 Emissions(g/km)                 0\n",
       "dtype: int64"
      ]
     },
     "execution_count": 5,
     "metadata": {},
     "output_type": "execute_result"
    }
   ],
   "source": [
    "main_df.isna().sum()"
   ]
  },
  {
   "cell_type": "code",
   "execution_count": 6,
   "id": "b2190f94",
   "metadata": {},
   "outputs": [
    {
     "data": {
      "text/plain": [
       "Index(['Make', 'Model', 'Vehicle Class', 'Engine Size(L)', 'Cylinders',\n",
       "       'Transmission', 'Fuel Type', 'Fuel Consumption City (L/100 km)',\n",
       "       'Fuel Consumption Hwy (L/100 km)', 'Fuel Consumption Comb (L/100 km)',\n",
       "       'Fuel Consumption Comb (mpg)', 'CO2 Emissions(g/km)'],\n",
       "      dtype='object')"
      ]
     },
     "execution_count": 6,
     "metadata": {},
     "output_type": "execute_result"
    }
   ],
   "source": [
    "main_df.columns"
   ]
  },
  {
   "cell_type": "markdown",
   "id": "db514b80",
   "metadata": {},
   "source": [
    "### Checking and Removing Duplicate Rows"
   ]
  },
  {
   "cell_type": "code",
   "execution_count": 7,
   "id": "01084879",
   "metadata": {},
   "outputs": [
    {
     "data": {
      "text/plain": [
       "(1103, 12)"
      ]
     },
     "execution_count": 7,
     "metadata": {},
     "output_type": "execute_result"
    }
   ],
   "source": [
    "main_df[main_df.duplicated()].shape"
   ]
  },
  {
   "cell_type": "code",
   "execution_count": 8,
   "id": "1086536e",
   "metadata": {},
   "outputs": [
    {
     "data": {
      "text/plain": [
       "(7385, 12)"
      ]
     },
     "execution_count": 8,
     "metadata": {},
     "output_type": "execute_result"
    }
   ],
   "source": [
    "main_df.shape"
   ]
  },
  {
   "cell_type": "code",
   "execution_count": 9,
   "id": "ea4bbbff",
   "metadata": {},
   "outputs": [],
   "source": [
    "main_df.drop(axis=\"rows\", labels=main_df.index[main_df.duplicated()], inplace=True)"
   ]
  },
  {
   "cell_type": "code",
   "execution_count": 10,
   "id": "4cf7ddd5",
   "metadata": {},
   "outputs": [
    {
     "data": {
      "text/plain": [
       "(6282, 12)"
      ]
     },
     "execution_count": 10,
     "metadata": {},
     "output_type": "execute_result"
    }
   ],
   "source": [
    "main_df.shape"
   ]
  },
  {
   "cell_type": "markdown",
   "id": "019654c9",
   "metadata": {},
   "source": [
    "### Label Encoding the Model feature"
   ]
  },
  {
   "cell_type": "markdown",
   "id": "82108e34",
   "metadata": {},
   "source": [
    "The Model feature has too many categories, so it will not be feasibly to one hot encode it"
   ]
  },
  {
   "cell_type": "code",
   "execution_count": 11,
   "id": "74442002",
   "metadata": {},
   "outputs": [],
   "source": [
    "def labEncodeCol(df, col):\n",
    "    os = main_df[col]\n",
    "    l = list(os.unique())\n",
    "    d = {}\n",
    "    for i in range(len(l)):\n",
    "        d[l[i]]=i\n",
    "        \n",
    "    s = pd.Series(np.zeros(os.shape[0]), index=main_df.index)\n",
    "    for i in range(os.shape[0]):\n",
    "        s.iloc[i] = d[os.iloc[i]]\n",
    "        \n",
    "    df[col] = s"
   ]
  },
  {
   "cell_type": "code",
   "execution_count": 12,
   "id": "54174c16",
   "metadata": {},
   "outputs": [],
   "source": [
    "labEncodeCol(main_df, 'Model')"
   ]
  },
  {
   "cell_type": "markdown",
   "id": "6cbb4ba6",
   "metadata": {},
   "source": [
    "### Functions for splitting, normalising and one hot encoding"
   ]
  },
  {
   "cell_type": "code",
   "execution_count": 13,
   "id": "a21aed87",
   "metadata": {},
   "outputs": [],
   "source": [
    "def normalize(X):\n",
    "    for i in range(0, X.shape[1]):\n",
    "        X[:, i] = (X[:, i]-np.mean(X[:, i]))/np.std(X[:, i])\n",
    "            \n",
    "from sklearn.model_selection import train_test_split\n",
    "\n",
    "# This function splits encodes the required columns of a dataframe and converts it to numpy arrays X and y\n",
    "# Then it normalizes them\n",
    "# The it splits them into train and test set\n",
    "def dosplit(df, fcols, targetcol):\n",
    "    X = pd.get_dummies(main_df.loc[:, fcols], drop_first=True).to_numpy().astype(np.float64)\n",
    "    y = main_df[targetcol].to_numpy().astype(np.float64)\n",
    "    normalize(X)\n",
    "    X_train,X_test,y_train,y_test=train_test_split(X,y,test_size=.20, random_state=5)\n",
    "    return (X_train, X_test, y_train, y_test)\n",
    "\n",
    "targ = \"CO2 Emissions(g/km)\"\n",
    "allcomb = []\n",
    "for cl in main_df.columns:\n",
    "    if(cl != targ):\n",
    "        allcomb.append(cl)\n",
    "specComb = ['Transmission', 'Fuel Type', 'Fuel Consumption Comb (L/100 km)', 'Engine Size(L)', 'Cylinders']"
   ]
  },
  {
   "cell_type": "markdown",
   "id": "d1f72099",
   "metadata": {},
   "source": [
    "## B. Closed Form Solution\n",
    "-----"
   ]
  },
  {
   "cell_type": "code",
   "execution_count": 14,
   "id": "e634dde7",
   "metadata": {},
   "outputs": [],
   "source": [
    "def mean_squared_error(y_true, y_pred):\n",
    "    return np.mean((y_true - y_pred) ** 2)\n",
    "\n",
    "class ClosedFormLR:\n",
    "    \n",
    "    def __init__(self):\n",
    "        self.weights = None\n",
    "    \n",
    "    def fit(self, X, y):\n",
    "        \n",
    "        # Adding a column of ones to the features\n",
    "        Xd = np.c_[np.ones(X.shape[0]), X]\n",
    "        n_samples = Xd.shape[0] \n",
    "\n",
    "        self.weights = np.linalg.pinv(Xd.T @ Xd) @ (Xd.T @ y)\n",
    "        \n",
    "    def predict(self, X):\n",
    "        \n",
    "        Xd = np.c_[np.ones(X.shape[0]), X]\n",
    "        y_approximated = np.dot(Xd, self.weights)\n",
    "\n",
    "        return y_approximated"
   ]
  },
  {
   "cell_type": "markdown",
   "id": "b8942944",
   "metadata": {},
   "source": [
    "### Finding the model for different cases"
   ]
  },
  {
   "cell_type": "markdown",
   "id": "91e0dd33",
   "metadata": {},
   "source": [
    "#### 1. For all the features"
   ]
  },
  {
   "cell_type": "code",
   "execution_count": 15,
   "id": "d7b8a753",
   "metadata": {},
   "outputs": [
    {
     "name": "stdout",
     "output_type": "stream",
     "text": [
      "MSE : 25.111016043996045\n"
     ]
    }
   ],
   "source": [
    "X_train,X_test,y_train,y_test = dosplit(main_df, allcomb, targ)\n",
    "\n",
    "ClosedFormLR_model = ClosedFormLR()\n",
    "ClosedFormLR_model.fit(X_train, y_train)  \n",
    "\n",
    "yhat_test = ClosedFormLR_model.predict(X_test)\n",
    "print(\"MSE :\", mean_squared_error(y_test, yhat_test))"
   ]
  },
  {
   "cell_type": "markdown",
   "id": "2635ab61",
   "metadata": {},
   "source": [
    "#### 2. Special Features individually"
   ]
  },
  {
   "cell_type": "code",
   "execution_count": 16,
   "id": "9709cd6d",
   "metadata": {},
   "outputs": [
    {
     "name": "stdout",
     "output_type": "stream",
     "text": [
      "For Transmission :\n",
      "MSE : 2667.30736471424\n",
      "\n",
      "For Fuel Type :\n",
      "MSE : 3367.40794772957\n",
      "\n",
      "For Fuel Consumption Comb (L/100 km) :\n",
      "MSE : 559.2187681792115\n",
      "\n",
      "For Engine Size(L) :\n",
      "MSE : 913.5233978600984\n",
      "\n",
      "For Cylinders :\n",
      "MSE : 1113.7201755521685\n",
      "\n"
     ]
    }
   ],
   "source": [
    "for col in specComb:\n",
    "    print(\"For\", col, ':')\n",
    "    X_train,X_test,y_train,y_test = dosplit(main_df, [col], targ)\n",
    "\n",
    "    ClosedFormLR_model = ClosedFormLR()\n",
    "    ClosedFormLR_model.fit(X_train, y_train)  \n",
    "\n",
    "    yhat_test = ClosedFormLR_model.predict(X_test)\n",
    "    print(\"MSE :\", mean_squared_error(y_test, yhat_test))\n",
    "    print(\"\")"
   ]
  },
  {
   "cell_type": "markdown",
   "id": "e26813c7",
   "metadata": {},
   "source": [
    "#### 3. Special features collectively"
   ]
  },
  {
   "cell_type": "code",
   "execution_count": 17,
   "id": "942f4cf9",
   "metadata": {},
   "outputs": [
    {
     "name": "stdout",
     "output_type": "stream",
     "text": [
      "MSE : 32.5580044075268\n"
     ]
    }
   ],
   "source": [
    "X_train,X_test,y_train,y_test = dosplit(main_df, specComb, targ)\n",
    "\n",
    "ClosedFormLR_model = ClosedFormLR()\n",
    "ClosedFormLR_model.fit(X_train, y_train)  \n",
    "\n",
    "yhat_test = ClosedFormLR_model.predict(X_test)\n",
    "print(\"MSE :\", mean_squared_error(y_test, yhat_test))"
   ]
  },
  {
   "cell_type": "markdown",
   "id": "8b00a97d",
   "metadata": {},
   "source": [
    "## C. Gradient Descent Solution\n",
    "-----"
   ]
  },
  {
   "cell_type": "code",
   "execution_count": 18,
   "id": "78caccee",
   "metadata": {},
   "outputs": [],
   "source": [
    "def mean_squared_error(y_true, y_pred):\n",
    "    return np.mean((y_true - y_pred) ** 2)\n",
    "\n",
    "class GradientDescentLR:\n",
    "    \n",
    "    def __init__(self, learning_rate=0.1, n_iters=1000, plot=True):\n",
    "        self.lr = learning_rate\n",
    "        self.n_iters = n_iters\n",
    "        self.weights = None\n",
    "        self.plot = plot\n",
    "    \n",
    "    def fit(self, X, y):\n",
    "        \n",
    "        # Adding a column of ones to the features\n",
    "        Xd = np.c_[np.ones(X.shape[0]), X]\n",
    "        n_samples = Xd.shape[0] \n",
    "                \n",
    "        self.weights = np.random.uniform(low=-1, high=1, size=Xd.shape[1])\n",
    "        costs = []\n",
    "        \n",
    "        for _ in range(self.n_iters):\n",
    "            y_predicted = np.dot(Xd,self.weights)\n",
    "            change = (1/Xd.shape[0]) * np.dot(Xd.T, y_predicted-y)\n",
    "            self.weights -= self.lr*change\n",
    "            \n",
    "            if(self.plot):\n",
    "                costs.append(np.mean((y - y_predicted)**2))\n",
    "\n",
    "        if(self.plot):\n",
    "            plt.plot(costs)\n",
    "        \n",
    "    def predict(self, X):\n",
    "        \n",
    "        Xd = np.c_[np.ones(X.shape[0]), X]\n",
    "        y_approximated = np.dot(Xd, self.weights)\n",
    "\n",
    "        return y_approximated"
   ]
  },
  {
   "cell_type": "markdown",
   "id": "871e7ffd",
   "metadata": {},
   "source": [
    "### Finding the model for different cases"
   ]
  },
  {
   "cell_type": "markdown",
   "id": "c885a214",
   "metadata": {},
   "source": [
    "#### 1. For all the features"
   ]
  },
  {
   "cell_type": "code",
   "execution_count": 19,
   "id": "dd5daae4",
   "metadata": {},
   "outputs": [
    {
     "name": "stdout",
     "output_type": "stream",
     "text": [
      "MSE : 25.06930368054863\n"
     ]
    },
    {
     "data": {
      "image/png": "[encoded data removed]",
      "text/plain": [
       "<Figure size 432x288 with 1 Axes>"
      ]
     },
     "metadata": {
      "needs_background": "light"
     },
     "output_type": "display_data"
    }
   ],
   "source": [
    "X_train,X_test,y_train,y_test = dosplit(main_df, allcomb, targ)\n",
    "\n",
    "gdlr_model = GradientDescentLR(n_iters = 2000)\n",
    "gdlr_model.fit(X_train, y_train)  \n",
    "\n",
    "yhat_test = gdlr_model.predict(X_test)\n",
    "print(\"MSE :\", mean_squared_error(y_test, yhat_test))"
   ]
  },
  {
   "cell_type": "markdown",
   "id": "7108a80c",
   "metadata": {},
   "source": [
    "#### 2. Special Features individually"
   ]
  },
  {
   "cell_type": "code",
   "execution_count": 20,
   "id": "f0bc48be",
   "metadata": {},
   "outputs": [
    {
     "name": "stdout",
     "output_type": "stream",
     "text": [
      "For Transmission :\n",
      "MSE : 2671.6324507896825\n",
      "\n",
      "For Fuel Type :\n",
      "MSE : 3367.407927000919\n",
      "\n",
      "For Fuel Consumption Comb (L/100 km) :\n",
      "MSE : 559.2187681792111\n",
      "\n",
      "For Engine Size(L) :\n",
      "MSE : 913.523397860098\n",
      "\n",
      "For Cylinders :\n",
      "MSE : 1113.7201755521694\n",
      "\n"
     ]
    }
   ],
   "source": [
    "for col in specComb:\n",
    "    print(\"For\", col, ':')\n",
    "    X_train,X_test,y_train,y_test = dosplit(main_df, [col], targ)\n",
    "\n",
    "    gdlr_model = GradientDescentLR(n_iters = 2000, plot=False)\n",
    "    gdlr_model.fit(X_train, y_train)  \n",
    "\n",
    "    yhat_test = gdlr_model.predict(X_test)\n",
    "    print(\"MSE :\", mean_squared_error(y_test, yhat_test))\n",
    "    print(\"\")"
   ]
  },
  {
   "cell_type": "markdown",
   "id": "89b2c819",
   "metadata": {},
   "source": [
    "#### 3. Special features collectively"
   ]
  },
  {
   "cell_type": "code",
   "execution_count": 21,
   "id": "98eb1bb5",
   "metadata": {},
   "outputs": [
    {
     "name": "stdout",
     "output_type": "stream",
     "text": [
      "MSE : 32.55619205636697\n"
     ]
    },
    {
     "data": {
      "image/png": "[encoded data removed]",
      "text/plain": [
       "<Figure size 432x288 with 1 Axes>"
      ]
     },
     "metadata": {
      "needs_background": "light"
     },
     "output_type": "display_data"
    }
   ],
   "source": [
    "X_train,X_test,y_train,y_test = dosplit(main_df, specComb, targ)\n",
    "\n",
    "gdlr_model = GradientDescentLR(n_iters = 2000)\n",
    "gdlr_model.fit(X_train, y_train)  \n",
    "\n",
    "yhat_test = gdlr_model.predict(X_test)\n",
    "print(\"MSE :\", mean_squared_error(y_test, yhat_test))"
   ]
  },
  {
   "cell_type": "markdown",
   "id": "46e73831",
   "metadata": {},
   "source": [
    "## D. Newton's Method Solution\n",
    "-----"
   ]
  },
  {
   "cell_type": "code",
   "execution_count": 22,
   "id": "0867e71f",
   "metadata": {},
   "outputs": [],
   "source": [
    "def mean_squared_error(y_true, y_pred):\n",
    "    return np.mean((y_true - y_pred) ** 2)\n",
    "\n",
    "class NewtonMethodLR:\n",
    "    \n",
    "    def __init__(self, learning_rate=0.0003, n_iters=1000, plot=True):\n",
    "        self.lr = learning_rate\n",
    "        self.n_iters = n_iters\n",
    "        self.weights = None\n",
    "        self.plot = plot\n",
    "    \n",
    "    def fit(self, X, y):\n",
    "        \n",
    "        # Adding a column of ones to the features\n",
    "        Xd = np.c_[np.ones(X.shape[0]), X]\n",
    "        n_samples = Xd.shape[0] \n",
    "        H = Xd.T @ Xd\n",
    "        Hinv = np.linalg.pinv(H);\n",
    "                \n",
    "        self.weights = np.random.uniform(low=-1, high=1, size=Xd.shape[1])\n",
    "        costs = []\n",
    "        \n",
    "        for _ in range(self.n_iters):\n",
    "            y_predicted = np.dot(Xd,self.weights)\n",
    "            change = np.dot(Xd.T, y_predicted-y)\n",
    "            self.weights -= Hinv@change\n",
    "            \n",
    "            if(self.plot):\n",
    "                costs.append(np.mean((y - y_predicted)**2))\n",
    "                \n",
    "        if(self.plot):\n",
    "            plt.plot(costs)\n",
    "        \n",
    "    def predict(self, X):\n",
    "        \n",
    "        Xd = np.c_[np.ones(X.shape[0]), X]\n",
    "        y_approximated = np.dot(Xd, self.weights)\n",
    "\n",
    "        return y_approximated"
   ]
  },
  {
   "cell_type": "markdown",
   "id": "b11dc46f",
   "metadata": {},
   "source": [
    "### Finding the model for different cases"
   ]
  },
  {
   "cell_type": "markdown",
   "id": "2b8f48e4",
   "metadata": {},
   "source": [
    "#### 1. For all the features"
   ]
  },
  {
   "cell_type": "code",
   "execution_count": 23,
   "id": "eb115023",
   "metadata": {},
   "outputs": [
    {
     "name": "stdout",
     "output_type": "stream",
     "text": [
      "MSE : 25.11101604397953\n"
     ]
    },
    {
     "data": {
      "image/png": "[encoded data removed]",
      "text/plain": [
       "<Figure size 432x288 with 1 Axes>"
      ]
     },
     "metadata": {
      "needs_background": "light"
     },
     "output_type": "display_data"
    }
   ],
   "source": [
    "X_train,X_test,y_train,y_test = dosplit(main_df, allcomb, targ)\n",
    "\n",
    "nmlr_model = NewtonMethodLR(n_iters = 3)\n",
    "nmlr_model.fit(X_train, y_train) \n",
    "\n",
    "yhat_test = nmlr_model.predict(X_test)\n",
    "print(\"MSE :\", mean_squared_error(y_test, yhat_test))"
   ]
  },
  {
   "cell_type": "markdown",
   "id": "cca24b90",
   "metadata": {},
   "source": [
    "#### 2. Special Features individually"
   ]
  },
  {
   "cell_type": "code",
   "execution_count": 24,
   "id": "2119e72e",
   "metadata": {},
   "outputs": [
    {
     "name": "stdout",
     "output_type": "stream",
     "text": [
      "For Transmission :\n",
      "MSE : 2667.307364714239\n",
      "\n",
      "For Fuel Type :\n",
      "MSE : 3367.4079477295704\n",
      "\n",
      "For Fuel Consumption Comb (L/100 km) :\n",
      "MSE : 559.2187681792112\n",
      "\n",
      "For Engine Size(L) :\n",
      "MSE : 913.5233978600984\n",
      "\n",
      "For Cylinders :\n",
      "MSE : 1113.720175552169\n",
      "\n"
     ]
    }
   ],
   "source": [
    "for col in specComb:\n",
    "    print(\"For\", col, ':')\n",
    "    X_train,X_test,y_train,y_test = dosplit(main_df, [col], targ)\n",
    "\n",
    "    nmlr_model = NewtonMethodLR(n_iters = 3, plot=False)\n",
    "    nmlr_model.fit(X_train, y_train)  \n",
    "\n",
    "    yhat_test = nmlr_model.predict(X_test)\n",
    "    print(\"MSE :\", mean_squared_error(y_test, yhat_test))\n",
    "    print(\"\")"
   ]
  },
  {
   "cell_type": "markdown",
   "id": "79ec9e22",
   "metadata": {},
   "source": [
    "#### 3. Special features collectively"
   ]
  },
  {
   "cell_type": "code",
   "execution_count": 25,
   "id": "404bff5c",
   "metadata": {},
   "outputs": [
    {
     "name": "stdout",
     "output_type": "stream",
     "text": [
      "MSE : 32.558004407527704\n"
     ]
    },
    {
     "data": {
      "image/png": "[encoded data removed]",
      "text/plain": [
       "<Figure size 432x288 with 1 Axes>"
      ]
     },
     "metadata": {
      "needs_background": "light"
     },
     "output_type": "display_data"
    }
   ],
   "source": [
    "X_train,X_test,y_train,y_test = dosplit(main_df, specComb, targ)\n",
    "\n",
    "nmlr_model = NewtonMethodLR(n_iters = 3)\n",
    "nmlr_model.fit(X_train, y_train) \n",
    "\n",
    "yhat_test = nmlr_model.predict(X_test)\n",
    "print(\"MSE :\", mean_squared_error(y_test, yhat_test))"
   ]
  },
  {
   "cell_type": "markdown",
   "id": "1218fcd5",
   "metadata": {},
   "source": [
    "<br>\n",
    "\n",
    "## E. Linear Regression using SKLearn*\n",
    "\n",
    "----\n",
    "\n",
    "\\* This was not required but done for assessment of the implemented models"
   ]
  },
  {
   "cell_type": "code",
   "execution_count": 26,
   "id": "c8b8b884",
   "metadata": {},
   "outputs": [],
   "source": [
    "from sklearn.linear_model import LinearRegression"
   ]
  },
  {
   "cell_type": "code",
   "execution_count": 27,
   "id": "68203938",
   "metadata": {},
   "outputs": [
    {
     "data": {
      "text/plain": [
       "25.1110160439795"
      ]
     },
     "execution_count": 27,
     "metadata": {},
     "output_type": "execute_result"
    }
   ],
   "source": [
    "X_train,X_test,y_train,y_test = dosplit(main_df, allcomb, targ)\n",
    "\n",
    "lr_model = LinearRegression()\n",
    "lr_model.fit(X_train, y_train)\n",
    "\n",
    "yhat_test = lr_model.predict(X_test)\n",
    "mean_squared_error(y_test, yhat_test)"
   ]
  },
  {
   "cell_type": "code",
   "execution_count": null,
   "id": "1a225495",
   "metadata": {},
   "outputs": [],
   "source": []
  }
 ],
 "metadata": {
  "kernelspec": {
   "display_name": "Python 3",
   "language": "python",
   "name": "python3"
  },
  "language_info": {
   "codemirror_mode": {
    "name": "ipython",
    "version": 3
   },
   "file_extension": ".py",
   "mimetype": "text/x-python",
   "name": "python",
   "nbconvert_exporter": "python",
   "pygments_lexer": "ipython3",
   "version": "3.9.1"
  }
 },
 "nbformat": 4,
 "nbformat_minor": 5
}
