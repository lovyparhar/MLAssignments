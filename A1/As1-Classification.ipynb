{
 "cells": [
  {
   "cell_type": "markdown",
   "id": "42fab544",
   "metadata": {},
   "source": [
    "# ASSIGNMENT 1 - Classification\n",
    "----------------\n",
    "----------------"
   ]
  },
  {
   "cell_type": "markdown",
   "id": "4af46575",
   "metadata": {},
   "source": [
    "## A. Data Preprocessing\n",
    "-----"
   ]
  },
  {
   "cell_type": "markdown",
   "id": "332ba0cc",
   "metadata": {},
   "source": [
    "### Imports and visualisation of the structure"
   ]
  },
  {
   "cell_type": "code",
   "execution_count": 1,
   "id": "a65c16c5",
   "metadata": {},
   "outputs": [],
   "source": [
    "import numpy as np\n",
    "import pandas as pd \n",
    "import matplotlib.pyplot as plt \n",
    "import seaborn as sns\n",
    "\n",
    "main_df = pd.read_csv(\"Classification/ActualDataset/Heart-Disease-Prediction-Dataset.csv\")"
   ]
  },
  {
   "cell_type": "code",
   "execution_count": 2,
   "id": "a112dde6",
   "metadata": {},
   "outputs": [
    {
     "data": {
      "text/html": [
       "<div>\n",
       "<style scoped>\n",
       "    .dataframe tbody tr th:only-of-type {\n",
       "        vertical-align: middle;\n",
       "    }\n",
       "\n",
       "    .dataframe tbody tr th {\n",
       "        vertical-align: top;\n",
       "    }\n",
       "\n",
       "    .dataframe thead th {\n",
       "        text-align: right;\n",
       "    }\n",
       "</style>\n",
       "<table border=\"1\" class=\"dataframe\">\n",
       "  <thead>\n",
       "    <tr style=\"text-align: right;\">\n",
       "      <th></th>\n",
       "      <th>male</th>\n",
       "      <th>age</th>\n",
       "      <th>education</th>\n",
       "      <th>currentSmoker</th>\n",
       "      <th>cigsPerDay</th>\n",
       "      <th>BPMeds</th>\n",
       "      <th>prevalentStroke</th>\n",
       "      <th>prevalentHyp</th>\n",
       "      <th>diabetes</th>\n",
       "      <th>totChol</th>\n",
       "      <th>sysBP</th>\n",
       "      <th>diaBP</th>\n",
       "      <th>BMI</th>\n",
       "      <th>heartRate</th>\n",
       "      <th>glucose</th>\n",
       "      <th>TenYearCHD</th>\n",
       "    </tr>\n",
       "  </thead>\n",
       "  <tbody>\n",
       "    <tr>\n",
       "      <th>0</th>\n",
       "      <td>1</td>\n",
       "      <td>39</td>\n",
       "      <td>4.0</td>\n",
       "      <td>0</td>\n",
       "      <td>0.0</td>\n",
       "      <td>0.0</td>\n",
       "      <td>0</td>\n",
       "      <td>0</td>\n",
       "      <td>0</td>\n",
       "      <td>195.0</td>\n",
       "      <td>106.0</td>\n",
       "      <td>70.0</td>\n",
       "      <td>26.97</td>\n",
       "      <td>80.0</td>\n",
       "      <td>77.0</td>\n",
       "      <td>0</td>\n",
       "    </tr>\n",
       "    <tr>\n",
       "      <th>1</th>\n",
       "      <td>0</td>\n",
       "      <td>46</td>\n",
       "      <td>2.0</td>\n",
       "      <td>0</td>\n",
       "      <td>0.0</td>\n",
       "      <td>0.0</td>\n",
       "      <td>0</td>\n",
       "      <td>0</td>\n",
       "      <td>0</td>\n",
       "      <td>250.0</td>\n",
       "      <td>121.0</td>\n",
       "      <td>81.0</td>\n",
       "      <td>28.73</td>\n",
       "      <td>95.0</td>\n",
       "      <td>76.0</td>\n",
       "      <td>0</td>\n",
       "    </tr>\n",
       "    <tr>\n",
       "      <th>2</th>\n",
       "      <td>1</td>\n",
       "      <td>48</td>\n",
       "      <td>1.0</td>\n",
       "      <td>1</td>\n",
       "      <td>20.0</td>\n",
       "      <td>0.0</td>\n",
       "      <td>0</td>\n",
       "      <td>0</td>\n",
       "      <td>0</td>\n",
       "      <td>245.0</td>\n",
       "      <td>127.5</td>\n",
       "      <td>80.0</td>\n",
       "      <td>25.34</td>\n",
       "      <td>75.0</td>\n",
       "      <td>70.0</td>\n",
       "      <td>0</td>\n",
       "    </tr>\n",
       "    <tr>\n",
       "      <th>3</th>\n",
       "      <td>0</td>\n",
       "      <td>61</td>\n",
       "      <td>3.0</td>\n",
       "      <td>1</td>\n",
       "      <td>30.0</td>\n",
       "      <td>0.0</td>\n",
       "      <td>0</td>\n",
       "      <td>1</td>\n",
       "      <td>0</td>\n",
       "      <td>225.0</td>\n",
       "      <td>150.0</td>\n",
       "      <td>95.0</td>\n",
       "      <td>28.58</td>\n",
       "      <td>65.0</td>\n",
       "      <td>103.0</td>\n",
       "      <td>1</td>\n",
       "    </tr>\n",
       "    <tr>\n",
       "      <th>4</th>\n",
       "      <td>0</td>\n",
       "      <td>46</td>\n",
       "      <td>3.0</td>\n",
       "      <td>1</td>\n",
       "      <td>23.0</td>\n",
       "      <td>0.0</td>\n",
       "      <td>0</td>\n",
       "      <td>0</td>\n",
       "      <td>0</td>\n",
       "      <td>285.0</td>\n",
       "      <td>130.0</td>\n",
       "      <td>84.0</td>\n",
       "      <td>23.10</td>\n",
       "      <td>85.0</td>\n",
       "      <td>85.0</td>\n",
       "      <td>0</td>\n",
       "    </tr>\n",
       "  </tbody>\n",
       "</table>\n",
       "</div>"
      ],
      "text/plain": [
       "   male  age  education  currentSmoker  cigsPerDay  BPMeds  prevalentStroke  \\\n",
       "0     1   39        4.0              0         0.0     0.0                0   \n",
       "1     0   46        2.0              0         0.0     0.0                0   \n",
       "2     1   48        1.0              1        20.0     0.0                0   \n",
       "3     0   61        3.0              1        30.0     0.0                0   \n",
       "4     0   46        3.0              1        23.0     0.0                0   \n",
       "\n",
       "   prevalentHyp  diabetes  totChol  sysBP  diaBP    BMI  heartRate  glucose  \\\n",
       "0             0         0    195.0  106.0   70.0  26.97       80.0     77.0   \n",
       "1             0         0    250.0  121.0   81.0  28.73       95.0     76.0   \n",
       "2             0         0    245.0  127.5   80.0  25.34       75.0     70.0   \n",
       "3             1         0    225.0  150.0   95.0  28.58       65.0    103.0   \n",
       "4             0         0    285.0  130.0   84.0  23.10       85.0     85.0   \n",
       "\n",
       "   TenYearCHD  \n",
       "0           0  \n",
       "1           0  \n",
       "2           0  \n",
       "3           1  \n",
       "4           0  "
      ]
     },
     "execution_count": 2,
     "metadata": {},
     "output_type": "execute_result"
    }
   ],
   "source": [
    "main_df.head()"
   ]
  },
  {
   "cell_type": "code",
   "execution_count": 3,
   "id": "055df3d1",
   "metadata": {},
   "outputs": [
    {
     "data": {
      "text/html": [
       "<div>\n",
       "<style scoped>\n",
       "    .dataframe tbody tr th:only-of-type {\n",
       "        vertical-align: middle;\n",
       "    }\n",
       "\n",
       "    .dataframe tbody tr th {\n",
       "        vertical-align: top;\n",
       "    }\n",
       "\n",
       "    .dataframe thead th {\n",
       "        text-align: right;\n",
       "    }\n",
       "</style>\n",
       "<table border=\"1\" class=\"dataframe\">\n",
       "  <thead>\n",
       "    <tr style=\"text-align: right;\">\n",
       "      <th></th>\n",
       "      <th>male</th>\n",
       "      <th>age</th>\n",
       "      <th>education</th>\n",
       "      <th>currentSmoker</th>\n",
       "      <th>cigsPerDay</th>\n",
       "      <th>BPMeds</th>\n",
       "      <th>prevalentStroke</th>\n",
       "      <th>prevalentHyp</th>\n",
       "      <th>diabetes</th>\n",
       "      <th>totChol</th>\n",
       "      <th>sysBP</th>\n",
       "      <th>diaBP</th>\n",
       "      <th>BMI</th>\n",
       "      <th>heartRate</th>\n",
       "      <th>glucose</th>\n",
       "      <th>TenYearCHD</th>\n",
       "    </tr>\n",
       "  </thead>\n",
       "  <tbody>\n",
       "    <tr>\n",
       "      <th>count</th>\n",
       "      <td>4238.000000</td>\n",
       "      <td>4238.000000</td>\n",
       "      <td>4133.000000</td>\n",
       "      <td>4238.000000</td>\n",
       "      <td>4209.000000</td>\n",
       "      <td>4185.000000</td>\n",
       "      <td>4238.000000</td>\n",
       "      <td>4238.000000</td>\n",
       "      <td>4238.000000</td>\n",
       "      <td>4188.000000</td>\n",
       "      <td>4238.000000</td>\n",
       "      <td>4238.000000</td>\n",
       "      <td>4219.000000</td>\n",
       "      <td>4237.000000</td>\n",
       "      <td>3850.000000</td>\n",
       "      <td>4238.000000</td>\n",
       "    </tr>\n",
       "    <tr>\n",
       "      <th>mean</th>\n",
       "      <td>0.429212</td>\n",
       "      <td>49.584946</td>\n",
       "      <td>1.978950</td>\n",
       "      <td>0.494101</td>\n",
       "      <td>9.003089</td>\n",
       "      <td>0.029630</td>\n",
       "      <td>0.005899</td>\n",
       "      <td>0.310524</td>\n",
       "      <td>0.025720</td>\n",
       "      <td>236.721585</td>\n",
       "      <td>132.352407</td>\n",
       "      <td>82.893464</td>\n",
       "      <td>25.802008</td>\n",
       "      <td>75.878924</td>\n",
       "      <td>81.966753</td>\n",
       "      <td>0.151958</td>\n",
       "    </tr>\n",
       "    <tr>\n",
       "      <th>std</th>\n",
       "      <td>0.495022</td>\n",
       "      <td>8.572160</td>\n",
       "      <td>1.019791</td>\n",
       "      <td>0.500024</td>\n",
       "      <td>11.920094</td>\n",
       "      <td>0.169584</td>\n",
       "      <td>0.076587</td>\n",
       "      <td>0.462763</td>\n",
       "      <td>0.158316</td>\n",
       "      <td>44.590334</td>\n",
       "      <td>22.038097</td>\n",
       "      <td>11.910850</td>\n",
       "      <td>4.080111</td>\n",
       "      <td>12.026596</td>\n",
       "      <td>23.959998</td>\n",
       "      <td>0.359023</td>\n",
       "    </tr>\n",
       "    <tr>\n",
       "      <th>min</th>\n",
       "      <td>0.000000</td>\n",
       "      <td>32.000000</td>\n",
       "      <td>1.000000</td>\n",
       "      <td>0.000000</td>\n",
       "      <td>0.000000</td>\n",
       "      <td>0.000000</td>\n",
       "      <td>0.000000</td>\n",
       "      <td>0.000000</td>\n",
       "      <td>0.000000</td>\n",
       "      <td>107.000000</td>\n",
       "      <td>83.500000</td>\n",
       "      <td>48.000000</td>\n",
       "      <td>15.540000</td>\n",
       "      <td>44.000000</td>\n",
       "      <td>40.000000</td>\n",
       "      <td>0.000000</td>\n",
       "    </tr>\n",
       "    <tr>\n",
       "      <th>25%</th>\n",
       "      <td>0.000000</td>\n",
       "      <td>42.000000</td>\n",
       "      <td>1.000000</td>\n",
       "      <td>0.000000</td>\n",
       "      <td>0.000000</td>\n",
       "      <td>0.000000</td>\n",
       "      <td>0.000000</td>\n",
       "      <td>0.000000</td>\n",
       "      <td>0.000000</td>\n",
       "      <td>206.000000</td>\n",
       "      <td>117.000000</td>\n",
       "      <td>75.000000</td>\n",
       "      <td>23.070000</td>\n",
       "      <td>68.000000</td>\n",
       "      <td>71.000000</td>\n",
       "      <td>0.000000</td>\n",
       "    </tr>\n",
       "    <tr>\n",
       "      <th>50%</th>\n",
       "      <td>0.000000</td>\n",
       "      <td>49.000000</td>\n",
       "      <td>2.000000</td>\n",
       "      <td>0.000000</td>\n",
       "      <td>0.000000</td>\n",
       "      <td>0.000000</td>\n",
       "      <td>0.000000</td>\n",
       "      <td>0.000000</td>\n",
       "      <td>0.000000</td>\n",
       "      <td>234.000000</td>\n",
       "      <td>128.000000</td>\n",
       "      <td>82.000000</td>\n",
       "      <td>25.400000</td>\n",
       "      <td>75.000000</td>\n",
       "      <td>78.000000</td>\n",
       "      <td>0.000000</td>\n",
       "    </tr>\n",
       "    <tr>\n",
       "      <th>75%</th>\n",
       "      <td>1.000000</td>\n",
       "      <td>56.000000</td>\n",
       "      <td>3.000000</td>\n",
       "      <td>1.000000</td>\n",
       "      <td>20.000000</td>\n",
       "      <td>0.000000</td>\n",
       "      <td>0.000000</td>\n",
       "      <td>1.000000</td>\n",
       "      <td>0.000000</td>\n",
       "      <td>263.000000</td>\n",
       "      <td>144.000000</td>\n",
       "      <td>89.875000</td>\n",
       "      <td>28.040000</td>\n",
       "      <td>83.000000</td>\n",
       "      <td>87.000000</td>\n",
       "      <td>0.000000</td>\n",
       "    </tr>\n",
       "    <tr>\n",
       "      <th>max</th>\n",
       "      <td>1.000000</td>\n",
       "      <td>70.000000</td>\n",
       "      <td>4.000000</td>\n",
       "      <td>1.000000</td>\n",
       "      <td>70.000000</td>\n",
       "      <td>1.000000</td>\n",
       "      <td>1.000000</td>\n",
       "      <td>1.000000</td>\n",
       "      <td>1.000000</td>\n",
       "      <td>696.000000</td>\n",
       "      <td>295.000000</td>\n",
       "      <td>142.500000</td>\n",
       "      <td>56.800000</td>\n",
       "      <td>143.000000</td>\n",
       "      <td>394.000000</td>\n",
       "      <td>1.000000</td>\n",
       "    </tr>\n",
       "  </tbody>\n",
       "</table>\n",
       "</div>"
      ],
      "text/plain": [
       "              male          age    education  currentSmoker   cigsPerDay  \\\n",
       "count  4238.000000  4238.000000  4133.000000    4238.000000  4209.000000   \n",
       "mean      0.429212    49.584946     1.978950       0.494101     9.003089   \n",
       "std       0.495022     8.572160     1.019791       0.500024    11.920094   \n",
       "min       0.000000    32.000000     1.000000       0.000000     0.000000   \n",
       "25%       0.000000    42.000000     1.000000       0.000000     0.000000   \n",
       "50%       0.000000    49.000000     2.000000       0.000000     0.000000   \n",
       "75%       1.000000    56.000000     3.000000       1.000000    20.000000   \n",
       "max       1.000000    70.000000     4.000000       1.000000    70.000000   \n",
       "\n",
       "            BPMeds  prevalentStroke  prevalentHyp     diabetes      totChol  \\\n",
       "count  4185.000000      4238.000000   4238.000000  4238.000000  4188.000000   \n",
       "mean      0.029630         0.005899      0.310524     0.025720   236.721585   \n",
       "std       0.169584         0.076587      0.462763     0.158316    44.590334   \n",
       "min       0.000000         0.000000      0.000000     0.000000   107.000000   \n",
       "25%       0.000000         0.000000      0.000000     0.000000   206.000000   \n",
       "50%       0.000000         0.000000      0.000000     0.000000   234.000000   \n",
       "75%       0.000000         0.000000      1.000000     0.000000   263.000000   \n",
       "max       1.000000         1.000000      1.000000     1.000000   696.000000   \n",
       "\n",
       "             sysBP        diaBP          BMI    heartRate      glucose  \\\n",
       "count  4238.000000  4238.000000  4219.000000  4237.000000  3850.000000   \n",
       "mean    132.352407    82.893464    25.802008    75.878924    81.966753   \n",
       "std      22.038097    11.910850     4.080111    12.026596    23.959998   \n",
       "min      83.500000    48.000000    15.540000    44.000000    40.000000   \n",
       "25%     117.000000    75.000000    23.070000    68.000000    71.000000   \n",
       "50%     128.000000    82.000000    25.400000    75.000000    78.000000   \n",
       "75%     144.000000    89.875000    28.040000    83.000000    87.000000   \n",
       "max     295.000000   142.500000    56.800000   143.000000   394.000000   \n",
       "\n",
       "        TenYearCHD  \n",
       "count  4238.000000  \n",
       "mean      0.151958  \n",
       "std       0.359023  \n",
       "min       0.000000  \n",
       "25%       0.000000  \n",
       "50%       0.000000  \n",
       "75%       0.000000  \n",
       "max       1.000000  "
      ]
     },
     "execution_count": 3,
     "metadata": {},
     "output_type": "execute_result"
    }
   ],
   "source": [
    "main_df.describe()"
   ]
  },
  {
   "cell_type": "code",
   "execution_count": 4,
   "id": "3f82a81a",
   "metadata": {},
   "outputs": [
    {
     "data": {
      "text/plain": [
       "(4238, 16)"
      ]
     },
     "execution_count": 4,
     "metadata": {},
     "output_type": "execute_result"
    }
   ],
   "source": [
    "main_df.shape"
   ]
  },
  {
   "cell_type": "code",
   "execution_count": 5,
   "id": "bf2c013b",
   "metadata": {},
   "outputs": [
    {
     "data": {
      "text/plain": [
       "0.1519584709768759"
      ]
     },
     "execution_count": 5,
     "metadata": {},
     "output_type": "execute_result"
    }
   ],
   "source": [
    "# Getting the ratio of ones to the total number of values in the dataset\n",
    "main_df['TenYearCHD'].sum()/main_df.shape[0]"
   ]
  },
  {
   "cell_type": "code",
   "execution_count": 6,
   "id": "ef31e94d",
   "metadata": {},
   "outputs": [
    {
     "data": {
      "text/plain": [
       "(4238, 16)"
      ]
     },
     "execution_count": 6,
     "metadata": {},
     "output_type": "execute_result"
    }
   ],
   "source": [
    "main_df.shape"
   ]
  },
  {
   "cell_type": "code",
   "execution_count": 7,
   "id": "56132817",
   "metadata": {
    "scrolled": false
   },
   "outputs": [
    {
     "data": {
      "text/plain": [
       "male                 0\n",
       "age                  0\n",
       "education          105\n",
       "currentSmoker        0\n",
       "cigsPerDay          29\n",
       "BPMeds              53\n",
       "prevalentStroke      0\n",
       "prevalentHyp         0\n",
       "diabetes             0\n",
       "totChol             50\n",
       "sysBP                0\n",
       "diaBP                0\n",
       "BMI                 19\n",
       "heartRate            1\n",
       "glucose            388\n",
       "TenYearCHD           0\n",
       "dtype: int64"
      ]
     },
     "execution_count": 7,
     "metadata": {},
     "output_type": "execute_result"
    }
   ],
   "source": [
    "# Checking the number of nulls\n",
    "main_df.isna().sum()"
   ]
  },
  {
   "cell_type": "markdown",
   "id": "43c72a47",
   "metadata": {},
   "source": [
    "### Handling null values"
   ]
  },
  {
   "cell_type": "code",
   "execution_count": 8,
   "id": "d74d7cc9",
   "metadata": {},
   "outputs": [],
   "source": [
    "# Get the median cigerattes smoked by a smoker\n",
    "medcig = main_df.loc[main_df['cigsPerDay'] > 0].cigsPerDay.median()\n",
    "\n",
    "# For smoker nans, use the median value\n",
    "main_df.loc[(main_df['cigsPerDay'].isna()) & (main_df['currentSmoker'] == 1), 'cigsPerDay'] = medcig\n",
    "\n",
    "# For non smoker nans, use 0\n",
    "main_df.loc[(main_df['cigsPerDay'].isna()) & (main_df['currentSmoker'] == 0), 'cigsPerDay'] = 0"
   ]
  },
  {
   "cell_type": "code",
   "execution_count": 9,
   "id": "1720a52a",
   "metadata": {},
   "outputs": [
    {
     "data": {
      "text/plain": [
       "male                 0\n",
       "age                  0\n",
       "education          105\n",
       "currentSmoker        0\n",
       "cigsPerDay           0\n",
       "BPMeds              53\n",
       "prevalentStroke      0\n",
       "prevalentHyp         0\n",
       "diabetes             0\n",
       "totChol             50\n",
       "sysBP                0\n",
       "diaBP                0\n",
       "BMI                 19\n",
       "heartRate            1\n",
       "glucose            388\n",
       "TenYearCHD           0\n",
       "dtype: int64"
      ]
     },
     "execution_count": 9,
     "metadata": {},
     "output_type": "execute_result"
    }
   ],
   "source": [
    "# Checking the number of nulls\n",
    "main_df.isna().sum()"
   ]
  },
  {
   "cell_type": "markdown",
   "id": "d9cf0158",
   "metadata": {},
   "source": [
    "<br>\n",
    "<br>"
   ]
  },
  {
   "cell_type": "code",
   "execution_count": 10,
   "id": "f0ecfa42",
   "metadata": {},
   "outputs": [],
   "source": [
    "# Replacing education with the median education\n",
    "main_df.loc[main_df['education'].isna(), 'education'] = main_df['education'].median()\n",
    "# Replacing cholestrol and BMI with their respective means\n",
    "main_df.loc[main_df['BMI'].isna(), 'BMI'] = main_df['BMI'].mean()\n",
    "main_df.loc[main_df['totChol'].isna(), 'totChol'] = main_df['totChol'].mean()"
   ]
  },
  {
   "cell_type": "code",
   "execution_count": 11,
   "id": "cd3230be",
   "metadata": {
    "scrolled": true
   },
   "outputs": [
    {
     "data": {
      "text/plain": [
       "male                 0\n",
       "age                  0\n",
       "education            0\n",
       "currentSmoker        0\n",
       "cigsPerDay           0\n",
       "BPMeds              53\n",
       "prevalentStroke      0\n",
       "prevalentHyp         0\n",
       "diabetes             0\n",
       "totChol              0\n",
       "sysBP                0\n",
       "diaBP                0\n",
       "BMI                  0\n",
       "heartRate            1\n",
       "glucose            388\n",
       "TenYearCHD           0\n",
       "dtype: int64"
      ]
     },
     "execution_count": 11,
     "metadata": {},
     "output_type": "execute_result"
    }
   ],
   "source": [
    "# Checking the number of nulls\n",
    "main_df.isna().sum()"
   ]
  },
  {
   "cell_type": "markdown",
   "id": "211e6a31",
   "metadata": {},
   "source": [
    "<br>\n",
    "<br>"
   ]
  },
  {
   "cell_type": "code",
   "execution_count": 12,
   "id": "f33ad87e",
   "metadata": {
    "scrolled": true
   },
   "outputs": [
    {
     "name": "stdout",
     "output_type": "stream",
     "text": [
      "(124, 16)\n",
      "(1316, 16)\n",
      "(124, 16)\n",
      "0.09422492401215805\n"
     ]
    }
   ],
   "source": [
    "# Records taking BP Medication\n",
    "print(main_df[main_df['BPMeds'] == 1].shape)\n",
    "\n",
    "# Records having prevalent Hypertension\n",
    "print(main_df[main_df['prevalentHyp'] == 1].shape)\n",
    "\n",
    "# Records taking BP Medication and have prevalent Hypertension\n",
    "print(main_df[(main_df['BPMeds'] == 1) & (main_df['prevalentHyp'] == 1)].shape)\n",
    "\n",
    "# Rough Probability that a record takes BPMeds if he/she has prevalentHyp\n",
    "print(\n",
    "    main_df[(main_df['BPMeds'] == 1) & (main_df['prevalentHyp'] == 1)].shape[0]\n",
    "    / main_df[main_df['prevalentHyp'] == 1].shape[0]\n",
    ")"
   ]
  },
  {
   "cell_type": "markdown",
   "id": "f33f03c7",
   "metadata": {},
   "source": [
    "From the above values, we can note that:\n",
    "1. Everyone who takes BPMeds has prevalent Hypertension\n",
    "2. Everyone who has prevalent Hypertension may not take BPMeds\n",
    "3. Probability that someone suffering with prevalent Hypertension takes BPMeds is about 0.0942"
   ]
  },
  {
   "cell_type": "code",
   "execution_count": 13,
   "id": "9e8eb64c",
   "metadata": {},
   "outputs": [],
   "source": [
    "# Rough Probability that a record takes BPMeds if he/she has prevalentHyp\n",
    "medtakers = (\n",
    "    main_df[(main_df['BPMeds'] == 1) & (main_df['prevalentHyp'] == 1)].shape[0]\n",
    "    / main_df[main_df['prevalentHyp'] == 1].shape[0]\n",
    ")\n",
    "\n",
    "# Generate a random array with this probability of 1s and assign it to nulls in BP Meds\n",
    "m = main_df['BPMeds'].isna().sum()\n",
    "np.random.RandomState(0)\n",
    "s = np.random.choice([0, 1], p = [1-medtakers, medtakers], size = m)\n",
    "main_df.loc[main_df['BPMeds'].isna(), 'BPMeds'] = s"
   ]
  },
  {
   "cell_type": "code",
   "execution_count": 14,
   "id": "456cf44b",
   "metadata": {},
   "outputs": [
    {
     "data": {
      "text/plain": [
       "male                 0\n",
       "age                  0\n",
       "education            0\n",
       "currentSmoker        0\n",
       "cigsPerDay           0\n",
       "BPMeds               0\n",
       "prevalentStroke      0\n",
       "prevalentHyp         0\n",
       "diabetes             0\n",
       "totChol              0\n",
       "sysBP                0\n",
       "diaBP                0\n",
       "BMI                  0\n",
       "heartRate            1\n",
       "glucose            388\n",
       "TenYearCHD           0\n",
       "dtype: int64"
      ]
     },
     "execution_count": 14,
     "metadata": {},
     "output_type": "execute_result"
    }
   ],
   "source": [
    "# Checking the number of nulls\n",
    "main_df.isna().sum()"
   ]
  },
  {
   "cell_type": "markdown",
   "id": "13800979",
   "metadata": {},
   "source": [
    "<br>\n",
    "<br>"
   ]
  },
  {
   "cell_type": "code",
   "execution_count": 15,
   "id": "2a8b2f6f",
   "metadata": {},
   "outputs": [],
   "source": [
    "# Deleting all rows with nans for glucose and heartRate (gives a better answer)\n",
    "main_df.drop(axis = \"rows\", labels = main_df.index[main_df['heartRate'].isna()], inplace = True)\n",
    "main_df.drop(axis = \"rows\", labels = main_df.index[main_df['glucose'].isna()], inplace = True)"
   ]
  },
  {
   "cell_type": "code",
   "execution_count": 16,
   "id": "b3264e58",
   "metadata": {},
   "outputs": [
    {
     "data": {
      "text/plain": [
       "male               0\n",
       "age                0\n",
       "education          0\n",
       "currentSmoker      0\n",
       "cigsPerDay         0\n",
       "BPMeds             0\n",
       "prevalentStroke    0\n",
       "prevalentHyp       0\n",
       "diabetes           0\n",
       "totChol            0\n",
       "sysBP              0\n",
       "diaBP              0\n",
       "BMI                0\n",
       "heartRate          0\n",
       "glucose            0\n",
       "TenYearCHD         0\n",
       "dtype: int64"
      ]
     },
     "execution_count": 16,
     "metadata": {},
     "output_type": "execute_result"
    }
   ],
   "source": [
    "# Checking the number of nulls\n",
    "main_df.isna().sum()"
   ]
  },
  {
   "cell_type": "markdown",
   "id": "389bc4d2",
   "metadata": {},
   "source": [
    "### Checking correlation"
   ]
  },
  {
   "cell_type": "code",
   "execution_count": 17,
   "id": "082ffdfb",
   "metadata": {},
   "outputs": [
    {
     "data": {
      "text/html": [
       "<div>\n",
       "<style scoped>\n",
       "    .dataframe tbody tr th:only-of-type {\n",
       "        vertical-align: middle;\n",
       "    }\n",
       "\n",
       "    .dataframe tbody tr th {\n",
       "        vertical-align: top;\n",
       "    }\n",
       "\n",
       "    .dataframe thead th {\n",
       "        text-align: right;\n",
       "    }\n",
       "</style>\n",
       "<table border=\"1\" class=\"dataframe\">\n",
       "  <thead>\n",
       "    <tr style=\"text-align: right;\">\n",
       "      <th></th>\n",
       "      <th>male</th>\n",
       "      <th>age</th>\n",
       "      <th>education</th>\n",
       "      <th>currentSmoker</th>\n",
       "      <th>cigsPerDay</th>\n",
       "      <th>BPMeds</th>\n",
       "      <th>prevalentStroke</th>\n",
       "      <th>prevalentHyp</th>\n",
       "      <th>diabetes</th>\n",
       "      <th>totChol</th>\n",
       "      <th>sysBP</th>\n",
       "      <th>diaBP</th>\n",
       "      <th>BMI</th>\n",
       "      <th>heartRate</th>\n",
       "      <th>glucose</th>\n",
       "    </tr>\n",
       "  </thead>\n",
       "  <tbody>\n",
       "    <tr>\n",
       "      <th>male</th>\n",
       "      <td>1.000000</td>\n",
       "      <td>-0.027832</td>\n",
       "      <td>0.021283</td>\n",
       "      <td>0.204722</td>\n",
       "      <td>0.325445</td>\n",
       "      <td>-0.054787</td>\n",
       "      <td>-0.004112</td>\n",
       "      <td>-0.000305</td>\n",
       "      <td>0.014587</td>\n",
       "      <td>-0.071839</td>\n",
       "      <td>-0.046824</td>\n",
       "      <td>0.052563</td>\n",
       "      <td>0.075299</td>\n",
       "      <td>-0.115864</td>\n",
       "      <td>0.005974</td>\n",
       "    </tr>\n",
       "    <tr>\n",
       "      <th>age</th>\n",
       "      <td>-0.027832</td>\n",
       "      <td>1.000000</td>\n",
       "      <td>-0.161789</td>\n",
       "      <td>-0.212686</td>\n",
       "      <td>-0.190972</td>\n",
       "      <td>0.120203</td>\n",
       "      <td>0.064387</td>\n",
       "      <td>0.309426</td>\n",
       "      <td>0.109652</td>\n",
       "      <td>0.260034</td>\n",
       "      <td>0.391304</td>\n",
       "      <td>0.206087</td>\n",
       "      <td>0.135201</td>\n",
       "      <td>-0.006299</td>\n",
       "      <td>0.122139</td>\n",
       "    </tr>\n",
       "    <tr>\n",
       "      <th>education</th>\n",
       "      <td>0.021283</td>\n",
       "      <td>-0.161789</td>\n",
       "      <td>1.000000</td>\n",
       "      <td>0.024820</td>\n",
       "      <td>0.013391</td>\n",
       "      <td>-0.012081</td>\n",
       "      <td>-0.037501</td>\n",
       "      <td>-0.080064</td>\n",
       "      <td>-0.042134</td>\n",
       "      <td>-0.014005</td>\n",
       "      <td>-0.124269</td>\n",
       "      <td>-0.055862</td>\n",
       "      <td>-0.135753</td>\n",
       "      <td>-0.059086</td>\n",
       "      <td>-0.035199</td>\n",
       "    </tr>\n",
       "    <tr>\n",
       "      <th>currentSmoker</th>\n",
       "      <td>0.204722</td>\n",
       "      <td>-0.212686</td>\n",
       "      <td>0.024820</td>\n",
       "      <td>1.000000</td>\n",
       "      <td>0.774504</td>\n",
       "      <td>-0.048263</td>\n",
       "      <td>-0.038110</td>\n",
       "      <td>-0.107738</td>\n",
       "      <td>-0.049465</td>\n",
       "      <td>-0.048427</td>\n",
       "      <td>-0.135993</td>\n",
       "      <td>-0.113984</td>\n",
       "      <td>-0.161717</td>\n",
       "      <td>0.057394</td>\n",
       "      <td>-0.056935</td>\n",
       "    </tr>\n",
       "    <tr>\n",
       "      <th>cigsPerDay</th>\n",
       "      <td>0.325445</td>\n",
       "      <td>-0.190972</td>\n",
       "      <td>0.013391</td>\n",
       "      <td>0.774504</td>\n",
       "      <td>1.000000</td>\n",
       "      <td>-0.040429</td>\n",
       "      <td>-0.035247</td>\n",
       "      <td>-0.070581</td>\n",
       "      <td>-0.042600</td>\n",
       "      <td>-0.028973</td>\n",
       "      <td>-0.095110</td>\n",
       "      <td>-0.058003</td>\n",
       "      <td>-0.091714</td>\n",
       "      <td>0.070438</td>\n",
       "      <td>-0.057933</td>\n",
       "    </tr>\n",
       "    <tr>\n",
       "      <th>BPMeds</th>\n",
       "      <td>-0.054787</td>\n",
       "      <td>0.120203</td>\n",
       "      <td>-0.012081</td>\n",
       "      <td>-0.048263</td>\n",
       "      <td>-0.040429</td>\n",
       "      <td>1.000000</td>\n",
       "      <td>0.098199</td>\n",
       "      <td>0.250339</td>\n",
       "      <td>0.051185</td>\n",
       "      <td>0.085347</td>\n",
       "      <td>0.255781</td>\n",
       "      <td>0.190989</td>\n",
       "      <td>0.092990</td>\n",
       "      <td>0.010748</td>\n",
       "      <td>0.045892</td>\n",
       "    </tr>\n",
       "    <tr>\n",
       "      <th>prevalentStroke</th>\n",
       "      <td>-0.004112</td>\n",
       "      <td>0.064387</td>\n",
       "      <td>-0.037501</td>\n",
       "      <td>-0.038110</td>\n",
       "      <td>-0.035247</td>\n",
       "      <td>0.098199</td>\n",
       "      <td>1.000000</td>\n",
       "      <td>0.074755</td>\n",
       "      <td>0.006996</td>\n",
       "      <td>0.003755</td>\n",
       "      <td>0.063246</td>\n",
       "      <td>0.051473</td>\n",
       "      <td>0.029303</td>\n",
       "      <td>-0.022580</td>\n",
       "      <td>0.018439</td>\n",
       "    </tr>\n",
       "    <tr>\n",
       "      <th>prevalentHyp</th>\n",
       "      <td>-0.000305</td>\n",
       "      <td>0.309426</td>\n",
       "      <td>-0.080064</td>\n",
       "      <td>-0.107738</td>\n",
       "      <td>-0.070581</td>\n",
       "      <td>0.250339</td>\n",
       "      <td>0.074755</td>\n",
       "      <td>1.000000</td>\n",
       "      <td>0.083206</td>\n",
       "      <td>0.165188</td>\n",
       "      <td>0.699703</td>\n",
       "      <td>0.616968</td>\n",
       "      <td>0.301054</td>\n",
       "      <td>0.141659</td>\n",
       "      <td>0.086715</td>\n",
       "    </tr>\n",
       "    <tr>\n",
       "      <th>diabetes</th>\n",
       "      <td>0.014587</td>\n",
       "      <td>0.109652</td>\n",
       "      <td>-0.042134</td>\n",
       "      <td>-0.049465</td>\n",
       "      <td>-0.042600</td>\n",
       "      <td>0.051185</td>\n",
       "      <td>0.006996</td>\n",
       "      <td>0.083206</td>\n",
       "      <td>1.000000</td>\n",
       "      <td>0.043000</td>\n",
       "      <td>0.112558</td>\n",
       "      <td>0.052337</td>\n",
       "      <td>0.095719</td>\n",
       "      <td>0.059500</td>\n",
       "      <td>0.617657</td>\n",
       "    </tr>\n",
       "    <tr>\n",
       "      <th>totChol</th>\n",
       "      <td>-0.071839</td>\n",
       "      <td>0.260034</td>\n",
       "      <td>-0.014005</td>\n",
       "      <td>-0.048427</td>\n",
       "      <td>-0.028973</td>\n",
       "      <td>0.085347</td>\n",
       "      <td>0.003755</td>\n",
       "      <td>0.165188</td>\n",
       "      <td>0.043000</td>\n",
       "      <td>1.000000</td>\n",
       "      <td>0.213271</td>\n",
       "      <td>0.167060</td>\n",
       "      <td>0.113034</td>\n",
       "      <td>0.096082</td>\n",
       "      <td>0.046413</td>\n",
       "    </tr>\n",
       "    <tr>\n",
       "      <th>sysBP</th>\n",
       "      <td>-0.046824</td>\n",
       "      <td>0.391304</td>\n",
       "      <td>-0.124269</td>\n",
       "      <td>-0.135993</td>\n",
       "      <td>-0.095110</td>\n",
       "      <td>0.255781</td>\n",
       "      <td>0.063246</td>\n",
       "      <td>0.699703</td>\n",
       "      <td>0.112558</td>\n",
       "      <td>0.213271</td>\n",
       "      <td>1.000000</td>\n",
       "      <td>0.785172</td>\n",
       "      <td>0.327366</td>\n",
       "      <td>0.180760</td>\n",
       "      <td>0.140506</td>\n",
       "    </tr>\n",
       "    <tr>\n",
       "      <th>diaBP</th>\n",
       "      <td>0.052563</td>\n",
       "      <td>0.206087</td>\n",
       "      <td>-0.055862</td>\n",
       "      <td>-0.113984</td>\n",
       "      <td>-0.058003</td>\n",
       "      <td>0.190989</td>\n",
       "      <td>0.051473</td>\n",
       "      <td>0.616968</td>\n",
       "      <td>0.052337</td>\n",
       "      <td>0.167060</td>\n",
       "      <td>0.785172</td>\n",
       "      <td>1.000000</td>\n",
       "      <td>0.381120</td>\n",
       "      <td>0.178294</td>\n",
       "      <td>0.061301</td>\n",
       "    </tr>\n",
       "    <tr>\n",
       "      <th>BMI</th>\n",
       "      <td>0.075299</td>\n",
       "      <td>0.135201</td>\n",
       "      <td>-0.135753</td>\n",
       "      <td>-0.161717</td>\n",
       "      <td>-0.091714</td>\n",
       "      <td>0.092990</td>\n",
       "      <td>0.029303</td>\n",
       "      <td>0.301054</td>\n",
       "      <td>0.095719</td>\n",
       "      <td>0.113034</td>\n",
       "      <td>0.327366</td>\n",
       "      <td>0.381120</td>\n",
       "      <td>1.000000</td>\n",
       "      <td>0.071531</td>\n",
       "      <td>0.086347</td>\n",
       "    </tr>\n",
       "    <tr>\n",
       "      <th>heartRate</th>\n",
       "      <td>-0.115864</td>\n",
       "      <td>-0.006299</td>\n",
       "      <td>-0.059086</td>\n",
       "      <td>0.057394</td>\n",
       "      <td>0.070438</td>\n",
       "      <td>0.010748</td>\n",
       "      <td>-0.022580</td>\n",
       "      <td>0.141659</td>\n",
       "      <td>0.059500</td>\n",
       "      <td>0.096082</td>\n",
       "      <td>0.180760</td>\n",
       "      <td>0.178294</td>\n",
       "      <td>0.071531</td>\n",
       "      <td>1.000000</td>\n",
       "      <td>0.094500</td>\n",
       "    </tr>\n",
       "    <tr>\n",
       "      <th>glucose</th>\n",
       "      <td>0.005974</td>\n",
       "      <td>0.122139</td>\n",
       "      <td>-0.035199</td>\n",
       "      <td>-0.056935</td>\n",
       "      <td>-0.057933</td>\n",
       "      <td>0.045892</td>\n",
       "      <td>0.018439</td>\n",
       "      <td>0.086715</td>\n",
       "      <td>0.617657</td>\n",
       "      <td>0.046413</td>\n",
       "      <td>0.140506</td>\n",
       "      <td>0.061301</td>\n",
       "      <td>0.086347</td>\n",
       "      <td>0.094500</td>\n",
       "      <td>1.000000</td>\n",
       "    </tr>\n",
       "  </tbody>\n",
       "</table>\n",
       "</div>"
      ],
      "text/plain": [
       "                     male       age  education  currentSmoker  cigsPerDay  \\\n",
       "male             1.000000 -0.027832   0.021283       0.204722    0.325445   \n",
       "age             -0.027832  1.000000  -0.161789      -0.212686   -0.190972   \n",
       "education        0.021283 -0.161789   1.000000       0.024820    0.013391   \n",
       "currentSmoker    0.204722 -0.212686   0.024820       1.000000    0.774504   \n",
       "cigsPerDay       0.325445 -0.190972   0.013391       0.774504    1.000000   \n",
       "BPMeds          -0.054787  0.120203  -0.012081      -0.048263   -0.040429   \n",
       "prevalentStroke -0.004112  0.064387  -0.037501      -0.038110   -0.035247   \n",
       "prevalentHyp    -0.000305  0.309426  -0.080064      -0.107738   -0.070581   \n",
       "diabetes         0.014587  0.109652  -0.042134      -0.049465   -0.042600   \n",
       "totChol         -0.071839  0.260034  -0.014005      -0.048427   -0.028973   \n",
       "sysBP           -0.046824  0.391304  -0.124269      -0.135993   -0.095110   \n",
       "diaBP            0.052563  0.206087  -0.055862      -0.113984   -0.058003   \n",
       "BMI              0.075299  0.135201  -0.135753      -0.161717   -0.091714   \n",
       "heartRate       -0.115864 -0.006299  -0.059086       0.057394    0.070438   \n",
       "glucose          0.005974  0.122139  -0.035199      -0.056935   -0.057933   \n",
       "\n",
       "                   BPMeds  prevalentStroke  prevalentHyp  diabetes   totChol  \\\n",
       "male            -0.054787        -0.004112     -0.000305  0.014587 -0.071839   \n",
       "age              0.120203         0.064387      0.309426  0.109652  0.260034   \n",
       "education       -0.012081        -0.037501     -0.080064 -0.042134 -0.014005   \n",
       "currentSmoker   -0.048263        -0.038110     -0.107738 -0.049465 -0.048427   \n",
       "cigsPerDay      -0.040429        -0.035247     -0.070581 -0.042600 -0.028973   \n",
       "BPMeds           1.000000         0.098199      0.250339  0.051185  0.085347   \n",
       "prevalentStroke  0.098199         1.000000      0.074755  0.006996  0.003755   \n",
       "prevalentHyp     0.250339         0.074755      1.000000  0.083206  0.165188   \n",
       "diabetes         0.051185         0.006996      0.083206  1.000000  0.043000   \n",
       "totChol          0.085347         0.003755      0.165188  0.043000  1.000000   \n",
       "sysBP            0.255781         0.063246      0.699703  0.112558  0.213271   \n",
       "diaBP            0.190989         0.051473      0.616968  0.052337  0.167060   \n",
       "BMI              0.092990         0.029303      0.301054  0.095719  0.113034   \n",
       "heartRate        0.010748        -0.022580      0.141659  0.059500  0.096082   \n",
       "glucose          0.045892         0.018439      0.086715  0.617657  0.046413   \n",
       "\n",
       "                    sysBP     diaBP       BMI  heartRate   glucose  \n",
       "male            -0.046824  0.052563  0.075299  -0.115864  0.005974  \n",
       "age              0.391304  0.206087  0.135201  -0.006299  0.122139  \n",
       "education       -0.124269 -0.055862 -0.135753  -0.059086 -0.035199  \n",
       "currentSmoker   -0.135993 -0.113984 -0.161717   0.057394 -0.056935  \n",
       "cigsPerDay      -0.095110 -0.058003 -0.091714   0.070438 -0.057933  \n",
       "BPMeds           0.255781  0.190989  0.092990   0.010748  0.045892  \n",
       "prevalentStroke  0.063246  0.051473  0.029303  -0.022580  0.018439  \n",
       "prevalentHyp     0.699703  0.616968  0.301054   0.141659  0.086715  \n",
       "diabetes         0.112558  0.052337  0.095719   0.059500  0.617657  \n",
       "totChol          0.213271  0.167060  0.113034   0.096082  0.046413  \n",
       "sysBP            1.000000  0.785172  0.327366   0.180760  0.140506  \n",
       "diaBP            0.785172  1.000000  0.381120   0.178294  0.061301  \n",
       "BMI              0.327366  0.381120  1.000000   0.071531  0.086347  \n",
       "heartRate        0.180760  0.178294  0.071531   1.000000  0.094500  \n",
       "glucose          0.140506  0.061301  0.086347   0.094500  1.000000  "
      ]
     },
     "execution_count": 17,
     "metadata": {},
     "output_type": "execute_result"
    }
   ],
   "source": [
    "main_df.loc[:, 'male':'glucose'].corr()"
   ]
  },
  {
   "cell_type": "code",
   "execution_count": 18,
   "id": "3ebcf688",
   "metadata": {},
   "outputs": [
    {
     "data": {
      "text/plain": [
       "<AxesSubplot:>"
      ]
     },
     "execution_count": 18,
     "metadata": {},
     "output_type": "execute_result"
    },
    {
     "data": {
      "image/png": "[encoded data removed]",
      "text/plain": [
       "<Figure size 576x576 with 2 Axes>"
      ]
     },
     "metadata": {
      "needs_background": "light"
     },
     "output_type": "display_data"
    }
   ],
   "source": [
    "fig, ax = plt.subplots(figsize=(8,8))\n",
    "sns.heatmap(main_df.loc[:, 'male':'glucose'].corr())"
   ]
  },
  {
   "cell_type": "markdown",
   "id": "93c922a9",
   "metadata": {},
   "source": [
    "* As expected, the columns cigsPerDay and current Smoker are highly correlated we can try removing the currentSmoker coumn as cigsPerDay naturally cover the fact that the person is a current Smoker or not.\n",
    "* We have the diaBP and sysBP highly correlated. As per my research, the sysBP is more important from the perspective of Heart disease risk, we can try removing diaBP.\n",
    "\n",
    "But as I have tried, removing these columns didn't increase the scores instead it decreased them a bit, I decided not to remove them."
   ]
  },
  {
   "cell_type": "code",
   "execution_count": 19,
   "id": "31b6b4a7",
   "metadata": {},
   "outputs": [],
   "source": [
    "# main_df.drop(axis='columns', labels=['diaBP', 'currentSmoker'], inplace = True)"
   ]
  },
  {
   "cell_type": "markdown",
   "id": "effaa3ad",
   "metadata": {},
   "source": [
    "These highly correlated columns like sysBP and diaBP can be modelled better using a multivariate gaussian bayes classifier rather than a gaussian naive bayes classifier. This is because in naive bayes we assume the columns to be independent and we don't capture the correlation between the columns. "
   ]
  },
  {
   "cell_type": "markdown",
   "id": "d2f17532",
   "metadata": {},
   "source": [
    "<br>\n",
    "<br>\n",
    "\n",
    "### Splitting into training and test set"
   ]
  },
  {
   "cell_type": "code",
   "execution_count": 20,
   "id": "1457ee9e",
   "metadata": {},
   "outputs": [],
   "source": [
    "def normalize(X):\n",
    "    for i in range(0, X.shape[1]):\n",
    "        X[:, i] = (X[:, i]-np.mean(X[:, i]))/np.std(X[:, i])\n",
    "            \n",
    "from sklearn.model_selection import train_test_split\n",
    "\n",
    "# This function splits converts the required columns of a dataframe to X and y to numpy arrays\n",
    "# Then it normalizes them\n",
    "# The it splits them into train and test set\n",
    "def dosplit(df, fcols, targetcol):\n",
    "    X = main_df.loc[:, fcols].to_numpy().astype(np.float64)\n",
    "    y = main_df[targetcol].to_numpy().astype(np.float64)\n",
    "    normalize(X)\n",
    "    X_train,X_test,y_train,y_test=train_test_split(X,y,test_size=.20, random_state=5)\n",
    "    return (X_train, X_test, y_train, y_test)\n",
    "\n",
    "targ = \"TenYearCHD\"\n",
    "allcomb = []\n",
    "for cl in main_df.columns:\n",
    "    if(cl != targ):\n",
    "        allcomb.append(cl)\n",
    "specComb = ['age', 'cigsPerDay', 'totChol', 'BMI', 'heartRate', 'sysBP', 'glucose']"
   ]
  },
  {
   "cell_type": "markdown",
   "id": "433a0cb2",
   "metadata": {},
   "source": [
    "### Duplicating rows for the imbalance"
   ]
  },
  {
   "cell_type": "code",
   "execution_count": 21,
   "id": "33062405",
   "metadata": {
    "scrolled": true
   },
   "outputs": [],
   "source": [
    "def duprows(X_train, y_train, dupar=2.75):\n",
    "    \n",
    "    # The count of the number of ones in the training set\n",
    "    con = (abs(y_train-1)<1e-5).sum()\n",
    "    extrarows = int((dupar-1) * con)\n",
    "\n",
    "    Xdup = np.zeros((extrarows, X_train.shape[1]))\n",
    "    ydup = np.zeros(extrarows)\n",
    "\n",
    "    l = 0\n",
    "    i = 0\n",
    "    while(l < extrarows):\n",
    "        if(abs(y_train[i]-1) <1e-5):\n",
    "            ydup[l] = 1\n",
    "            Xdup[l] = X_train[i, :]\n",
    "            l+=1\n",
    "        i=(i+1)%len(y_train)\n",
    "    \n",
    "    return (np.append(X_train, Xdup, axis=0), np.append(y_train, ydup, axis=0))\n"
   ]
  },
  {
   "cell_type": "markdown",
   "id": "af231e91",
   "metadata": {},
   "source": [
    "### Defining the functions for the metrics used"
   ]
  },
  {
   "cell_type": "code",
   "execution_count": 22,
   "id": "8b0d871a",
   "metadata": {},
   "outputs": [],
   "source": [
    "def accuracy(y_true, y_pred):\n",
    "    return (y_true == y_pred).sum()/len(y_true)"
   ]
  },
  {
   "cell_type": "code",
   "execution_count": 23,
   "id": "1583f1da",
   "metadata": {},
   "outputs": [],
   "source": [
    "def recall(y_test, yhat_test):\n",
    "    rec = ((2*y_test + 1*yhat_test)==3).sum();\n",
    "    if(rec != 0):\n",
    "        rec /= ((2*y_test + 1*yhat_test)==3).sum() + ((2*y_test + 1*yhat_test)==2).sum()\n",
    "    return rec"
   ]
  },
  {
   "cell_type": "code",
   "execution_count": 24,
   "id": "f249f0cb",
   "metadata": {},
   "outputs": [],
   "source": [
    "def precision(y_test, yhat_test):\n",
    "    prec = ((2*y_test + 1*yhat_test)==3).sum();\n",
    "    if(prec != 0):\n",
    "        prec /= ((2*y_test + 1*yhat_test)==3).sum() + ((2*y_test + 1*yhat_test)==1).sum()\n",
    "    return prec"
   ]
  },
  {
   "cell_type": "code",
   "execution_count": 25,
   "id": "96727cd0",
   "metadata": {},
   "outputs": [],
   "source": [
    "def f1score(y_test, yhat_test):\n",
    "    r = recall(y_test, yhat_test)\n",
    "    p = precision(y_test, yhat_test)\n",
    "    \n",
    "    if(r == 0 or p == 0):\n",
    "        return 0\n",
    "\n",
    "    return 2/(1/r + 1/p)"
   ]
  },
  {
   "cell_type": "code",
   "execution_count": 26,
   "id": "eefda6db",
   "metadata": {},
   "outputs": [],
   "source": [
    "def evaluate(y_test, yhat_test):\n",
    "    print(\"Accuracy :\", accuracy(y_test, yhat_test))\n",
    "    print(\"Recall :\", recall(y_test, yhat_test))\n",
    "    print(\"Precision :\", precision(y_test, yhat_test))\n",
    "    print(\"F1 Score :\", f1score(y_test, yhat_test))"
   ]
  },
  {
   "cell_type": "markdown",
   "id": "8a36812f",
   "metadata": {},
   "source": [
    "## A. Logistic Regression Using Gradient Descent\n",
    "\n",
    "-----"
   ]
  },
  {
   "cell_type": "code",
   "execution_count": 27,
   "id": "8ef9cc20",
   "metadata": {},
   "outputs": [],
   "source": [
    "def accuracy(y_true, y_pred):\n",
    "    return (y_true == y_pred).sum()/len(y_true)\n",
    "\n",
    "\n",
    "class GradientDescentLogR:\n",
    "\n",
    "    def __init__(self, learning_rate=0.0001, n_iters=1000, plot=True):\n",
    "        self.lr = learning_rate\n",
    "        self.n_iters = n_iters\n",
    "        self.weights = None\n",
    "        self.plot = plot\n",
    "        \n",
    "    def sigmoid(self, x):\n",
    "        y = 1/(1+np.exp(-x))\n",
    "        return y\n",
    "    \n",
    "\n",
    "    def getCost(self, X, y):\n",
    "        ht = self.sigmoid(X @ self.weights)\n",
    "        eps = 1e-5\n",
    "        cost = (1/X.shape[0]) * (-y*np.log(ht + eps) - (1-y)*np.log(1 - ht + eps)).sum()\n",
    "        return cost\n",
    "    \n",
    "    \n",
    "    def fit(self, X, y):\n",
    "        \n",
    "        # Adding a column of ones to the features\n",
    "        Xd = np.c_[np.ones(X.shape[0]), X]\n",
    "        n_samples = Xd.shape[0] \n",
    "                \n",
    "        self.weights = np.random.uniform(low=-0.01, high=0.01, size=Xd.shape[1])\n",
    "        \n",
    "        costs = []\n",
    "        for _ in range(self.n_iters):\n",
    "            y_predicted = self.sigmoid(np.dot(Xd, self.weights))\n",
    "            change = np.dot(Xd.T, y_predicted-y)\n",
    "            self.weights -= self.lr*change\n",
    "            \n",
    "            if(self.plot):\n",
    "                costs.append(self.getCost(Xd, y))\n",
    "\n",
    "        if(self.plot):\n",
    "            plt.plot(costs)\n",
    "\n",
    "        \n",
    "    def predict(self, X):\n",
    "        \n",
    "        Xd = np.c_[np.ones(X.shape[0]), X]\n",
    "        y_approximated = np.round(self.sigmoid(np.dot(Xd, self.weights)))\n",
    "        \n",
    "        return y_approximated"
   ]
  },
  {
   "cell_type": "markdown",
   "id": "f9d16d59",
   "metadata": {},
   "source": [
    "### Fitting the model for different Cases"
   ]
  },
  {
   "cell_type": "markdown",
   "id": "ed84749f",
   "metadata": {},
   "source": [
    "#### 1. All columns"
   ]
  },
  {
   "cell_type": "code",
   "execution_count": 28,
   "id": "d550d87c",
   "metadata": {},
   "outputs": [
    {
     "name": "stdout",
     "output_type": "stream",
     "text": [
      "Accuracy : 0.8116883116883117\n",
      "Recall : 0.3969465648854962\n",
      "Precision : 0.4406779661016949\n",
      "F1 Score : 0.4176706827309237\n"
     ]
    },
    {
     "data": {
      "image/png": "[encoded data removed]",
      "text/plain": [
       "<Figure size 432x288 with 1 Axes>"
      ]
     },
     "metadata": {
      "needs_background": "light"
     },
     "output_type": "display_data"
    }
   ],
   "source": [
    "X_train,X_test,y_train,y_test = dosplit(main_df, allcomb, targ)\n",
    "X_train,y_train = duprows(X_train, y_train, dupar=2.75)\n",
    "\n",
    "lreg = GradientDescentLogR(n_iters=1000)\n",
    "lreg.fit(X_train, y_train)\n",
    "\n",
    "yhat_test = lreg.predict(X_test)\n",
    "evaluate(y_test, yhat_test)"
   ]
  },
  {
   "cell_type": "markdown",
   "id": "b73230c2",
   "metadata": {},
   "source": [
    "#### 2. Special Columns individually"
   ]
  },
  {
   "cell_type": "code",
   "execution_count": 29,
   "id": "0c9d5d92",
   "metadata": {},
   "outputs": [
    {
     "name": "stdout",
     "output_type": "stream",
     "text": [
      "For age :\n",
      "Accuracy : 0.7896103896103897\n",
      "Recall : 0.21374045801526717\n",
      "Precision : 0.3218390804597701\n",
      "F1 Score : 0.2568807339449541\n",
      "\n",
      "For cigsPerDay :\n",
      "Accuracy : 0.8298701298701299\n",
      "Recall : 0\n",
      "Precision : 0\n",
      "F1 Score : 0\n",
      "\n",
      "For totChol :\n",
      "Accuracy : 0.8298701298701299\n",
      "Recall : 0.022900763358778626\n",
      "Precision : 0.5\n",
      "F1 Score : 0.043795620437956206\n",
      "\n",
      "For BMI :\n",
      "Accuracy : 0.8298701298701299\n",
      "Recall : 0.007633587786259542\n",
      "Precision : 0.5\n",
      "F1 Score : 0.015037593984962405\n",
      "\n",
      "For heartRate :\n",
      "Accuracy : 0.8298701298701299\n",
      "Recall : 0\n",
      "Precision : 0\n",
      "F1 Score : 0\n",
      "\n",
      "For sysBP :\n",
      "Accuracy : 0.8103896103896104\n",
      "Recall : 0.17557251908396945\n",
      "Precision : 0.3770491803278688\n",
      "F1 Score : 0.2395833333333333\n",
      "\n",
      "For glucose :\n",
      "Accuracy : 0.8324675324675325\n",
      "Recall : 0.05343511450381679\n",
      "Precision : 0.5833333333333334\n",
      "F1 Score : 0.09790209790209789\n",
      "\n"
     ]
    }
   ],
   "source": [
    "for col in specComb:\n",
    "    print(\"For\", col, ':')\n",
    "    X_train,X_test,y_train,y_test = dosplit(main_df, [col], targ)\n",
    "    X_train,y_train = duprows(X_train, y_train, dupar=2.75)\n",
    "\n",
    "    lreg = GradientDescentLogR(n_iters=1000, plot=False)\n",
    "    lreg.fit(X_train, y_train)\n",
    "    \n",
    "    yhat_test = lreg.predict(X_test)\n",
    "    evaluate(y_test, yhat_test)\n",
    "    print(\"\")"
   ]
  },
  {
   "cell_type": "markdown",
   "id": "dfc357f9",
   "metadata": {},
   "source": [
    "#### 3. Special Columns Together\n",
    "\n",
    "i.e. the combination of age, cigsPerDay, totChol, BMI, heartRate, sysBP and glucose"
   ]
  },
  {
   "cell_type": "code",
   "execution_count": 30,
   "id": "d46720b4",
   "metadata": {},
   "outputs": [
    {
     "name": "stdout",
     "output_type": "stream",
     "text": [
      "Accuracy : 0.8194805194805195\n",
      "Recall : 0.3511450381679389\n",
      "Precision : 0.46\n",
      "F1 Score : 0.3982683982683982\n"
     ]
    },
    {
     "data": {
      "image/png": "[encoded data removed]",
      "text/plain": [
       "<Figure size 432x288 with 1 Axes>"
      ]
     },
     "metadata": {
      "needs_background": "light"
     },
     "output_type": "display_data"
    }
   ],
   "source": [
    "X_train,X_test,y_train,y_test = dosplit(main_df, specComb, targ)\n",
    "X_train,y_train = duprows(X_train, y_train, dupar=2.75)\n",
    "\n",
    "lreg = GradientDescentLogR(n_iters=1000)\n",
    "lreg.fit(X_train, y_train)\n",
    "\n",
    "yhat_test = lreg.predict(X_test)\n",
    "evaluate(y_test, yhat_test)"
   ]
  },
  {
   "cell_type": "markdown",
   "id": "8358cc8d",
   "metadata": {},
   "source": [
    "## B. Logistic Regression Using Newton's method in Gradient Descent\n",
    "\n",
    "-----"
   ]
  },
  {
   "cell_type": "code",
   "execution_count": 31,
   "id": "14a7d63f",
   "metadata": {},
   "outputs": [],
   "source": [
    "def accuracy(y_true, y_pred):\n",
    "    return (y_true == y_pred).sum()/len(y_true)\n",
    "\n",
    "\n",
    "class NewtonLogR:\n",
    "\n",
    "    def __init__(self, learning_rate=0.003, n_iters=1000, plot=True):\n",
    "        self.lr = learning_rate\n",
    "        self.n_iters = n_iters\n",
    "        self.weights = None\n",
    "        self.plot = plot\n",
    "        \n",
    "    def sigmoid(self, x):\n",
    "        y = 1/(1+np.exp(-x))\n",
    "        return y\n",
    "    \n",
    "\n",
    "    def getCost(self, X, y):\n",
    "        ht = self.sigmoid(X @ self.weights)\n",
    "        eps = 1e-5\n",
    "        cost = (1/X.shape[0]) * (-y*np.log(ht + eps) - (1-y)*np.log(1 - ht + eps)).sum()\n",
    "        return cost\n",
    "    \n",
    "    \n",
    "    def fit(self, X, y):\n",
    "        \n",
    "        # Adding a column of ones to the features\n",
    "        Xd = np.c_[np.ones(X.shape[0]), X]\n",
    "        n_samples = Xd.shape[0] \n",
    "        self.weights = np.random.uniform(low=-0.01, high=0.01, size=Xd.shape[1])\n",
    "        \n",
    "        evec = self.sigmoid(-Xd @ self.weights) * self.sigmoid(Xd @ self.weights) \n",
    "        n = int(Xd.shape[1])        \n",
    "        D = np.diag(evec)\n",
    "        H = Xd.T @ D @ Xd\n",
    "        for i in range(n):\n",
    "            for j in range(n):\n",
    "                H[i, j] = (evec * Xd[:, i] * Xd[:, j]).sum()\n",
    "        \n",
    "        Hinv = np.linalg.pinv(H);\n",
    "        \n",
    "        costs = []\n",
    "        for _ in range(self.n_iters):\n",
    "            y_predicted = self.sigmoid(np.dot(Xd, self.weights))\n",
    "            change = np.dot(Xd.T, y_predicted-y)\n",
    "            self.weights -= Hinv@change\n",
    "\n",
    "            if(self.plot):\n",
    "                costs.append(self.getCost(Xd, y))\n",
    "\n",
    "        if(self.plot):\n",
    "            plt.plot(costs)\n",
    "\n",
    "        \n",
    "    def predict(self, X):\n",
    "        \n",
    "        Xd = np.c_[np.ones(X.shape[0]), X]\n",
    "        y_approximated = np.round(self.sigmoid(np.dot(Xd, self.weights)))\n",
    "        \n",
    "        return y_approximated"
   ]
  },
  {
   "cell_type": "markdown",
   "id": "38f5073d",
   "metadata": {},
   "source": [
    "### Fitting the model for different Cases"
   ]
  },
  {
   "cell_type": "markdown",
   "id": "63784a61",
   "metadata": {},
   "source": [
    "#### 1. All columns"
   ]
  },
  {
   "cell_type": "code",
   "execution_count": 32,
   "id": "5f8e8615",
   "metadata": {},
   "outputs": [
    {
     "name": "stdout",
     "output_type": "stream",
     "text": [
      "Accuracy : 0.8116883116883117\n",
      "Recall : 0.3969465648854962\n",
      "Precision : 0.4406779661016949\n",
      "F1 Score : 0.4176706827309237\n"
     ]
    },
    {
     "data": {
      "image/png": "[encoded data removed]",
      "text/plain": [
       "<Figure size 432x288 with 1 Axes>"
      ]
     },
     "metadata": {
      "needs_background": "light"
     },
     "output_type": "display_data"
    }
   ],
   "source": [
    "X_train,X_test,y_train,y_test = dosplit(main_df, allcomb, targ)\n",
    "X_train,y_train = duprows(X_train, y_train, dupar=2.75)\n",
    "\n",
    "lreg = NewtonLogR(n_iters=15)\n",
    "lreg.fit(X_train, y_train)\n",
    "\n",
    "yhat_test = lreg.predict(X_test)\n",
    "evaluate(y_test, yhat_test)"
   ]
  },
  {
   "cell_type": "markdown",
   "id": "6f827e38",
   "metadata": {},
   "source": [
    "#### 2. Special Columns individually"
   ]
  },
  {
   "cell_type": "code",
   "execution_count": 33,
   "id": "db9eece7",
   "metadata": {},
   "outputs": [
    {
     "name": "stdout",
     "output_type": "stream",
     "text": [
      "For age :\n",
      "Accuracy : 0.7896103896103897\n",
      "Recall : 0.21374045801526717\n",
      "Precision : 0.3218390804597701\n",
      "F1 Score : 0.2568807339449541\n",
      "\n",
      "For cigsPerDay :\n",
      "Accuracy : 0.8298701298701299\n",
      "Recall : 0\n",
      "Precision : 0\n",
      "F1 Score : 0\n",
      "\n",
      "For totChol :\n",
      "Accuracy : 0.8298701298701299\n",
      "Recall : 0.022900763358778626\n",
      "Precision : 0.5\n",
      "F1 Score : 0.043795620437956206\n",
      "\n",
      "For BMI :\n",
      "Accuracy : 0.8298701298701299\n",
      "Recall : 0.007633587786259542\n",
      "Precision : 0.5\n",
      "F1 Score : 0.015037593984962405\n",
      "\n",
      "For heartRate :\n",
      "Accuracy : 0.8298701298701299\n",
      "Recall : 0\n",
      "Precision : 0\n",
      "F1 Score : 0\n",
      "\n",
      "For sysBP :\n",
      "Accuracy : 0.8103896103896104\n",
      "Recall : 0.17557251908396945\n",
      "Precision : 0.3770491803278688\n",
      "F1 Score : 0.2395833333333333\n",
      "\n",
      "For glucose :\n",
      "Accuracy : 0.8324675324675325\n",
      "Recall : 0.05343511450381679\n",
      "Precision : 0.5833333333333334\n",
      "F1 Score : 0.09790209790209789\n",
      "\n"
     ]
    }
   ],
   "source": [
    "for col in specComb:\n",
    "    print(\"For\", col, ':')\n",
    "    X_train,X_test,y_train,y_test = dosplit(main_df, [col], targ)\n",
    "    X_train,y_train = duprows(X_train, y_train, dupar=2.75)\n",
    "\n",
    "    lreg = NewtonLogR(n_iters=15, plot=False)\n",
    "    lreg.fit(X_train, y_train)\n",
    "    \n",
    "    yhat_test = lreg.predict(X_test)\n",
    "    evaluate(y_test, yhat_test)\n",
    "    print(\"\")"
   ]
  },
  {
   "cell_type": "markdown",
   "id": "30c14d8a",
   "metadata": {},
   "source": [
    "#### 3. Special Columns Together\n",
    "\n",
    "i.e. the combination of age, cigsPerDay, totChol, BMI, heartRate, sysBP and glucose"
   ]
  },
  {
   "cell_type": "code",
   "execution_count": 34,
   "id": "63baf8e0",
   "metadata": {},
   "outputs": [
    {
     "name": "stdout",
     "output_type": "stream",
     "text": [
      "Accuracy : 0.8194805194805195\n",
      "Recall : 0.3511450381679389\n",
      "Precision : 0.46\n",
      "F1 Score : 0.3982683982683982\n"
     ]
    },
    {
     "data": {
      "image/png": "[encoded data removed]",
      "text/plain": [
       "<Figure size 432x288 with 1 Axes>"
      ]
     },
     "metadata": {
      "needs_background": "light"
     },
     "output_type": "display_data"
    }
   ],
   "source": [
    "X_train,X_test,y_train,y_test = dosplit(main_df, specComb, targ)\n",
    "X_train,y_train = duprows(X_train, y_train, dupar=2.75)\n",
    "\n",
    "lreg = NewtonLogR(n_iters=15)\n",
    "lreg.fit(X_train, y_train)\n",
    "\n",
    "yhat_test = lreg.predict(X_test)\n",
    "evaluate(y_test, yhat_test)"
   ]
  },
  {
   "cell_type": "markdown",
   "id": "4b70b22b",
   "metadata": {},
   "source": [
    "## C. Naive Bayes Classifier\n",
    "\n",
    "-----"
   ]
  },
  {
   "cell_type": "code",
   "execution_count": 35,
   "id": "43f40a8b",
   "metadata": {},
   "outputs": [],
   "source": [
    "def accuracy(y_true, y_pred):\n",
    "    return (y_true == y_pred).sum()/len(y_true)\n",
    "\n",
    "\n",
    "# Returns an array of means corresponding to each column/feature\n",
    "def getClassMeans(X, y, cls):\n",
    "     return X[y==cls].mean(axis=0)    \n",
    "\n",
    "\n",
    "# Returns an array of variances corresponding to each column/feature \n",
    "def getClassVar(X, y, cls):\n",
    "    return X[y==cls].var(axis=0)\n",
    "\n",
    "\n",
    "class NaiveBayes:\n",
    "\n",
    "    def __init__(self, classes=[0,1]):\n",
    "        self.classes = classes # Stores the different class labels\n",
    "        self.clasmean = None # Stores mean array for each label\n",
    "        self.classvar = None # Stores variance array for each label\n",
    "        self.labelP = None # Stores the probability of occurence of a label without any condition\n",
    "    \n",
    "    # Sets the mean and variance arrays for the given data\n",
    "    def setmv(self, X, y):\n",
    "        self.classmean = {}\n",
    "        self.classvar = {}\n",
    "        for cl in self.classes:\n",
    "            self.classmean[cl] = getClassMeans(X, y, cl)\n",
    "            self.classvar[cl] = getClassVar(X, y, cl)   \n",
    "            \n",
    "    # Sets the label probablilities\n",
    "    def setPrior(self, y):\n",
    "        self.labelP = {}\n",
    "        for cls in self.classes:\n",
    "            self.labelP[cls] = (y==cls).sum()/len(y)\n",
    "        \n",
    "    # computing the model parameters\n",
    "    def fit(self, X, y):\n",
    "        self.setmv(X, y)\n",
    "        self.setPrior(y)\n",
    "       \n",
    "    # Gives the Probability density array(probability density for every feature) for an x wrt a given class\n",
    "    def gaussianProbD(self, cls, x):\n",
    "        mean = self.classmean[cls]\n",
    "        var = self.classvar[cls]\n",
    "        num = np.exp(-((x-mean)**2 / (2*var)))\n",
    "        den = np.sqrt(2 * np.pi * var)\n",
    "        return num/den\n",
    "        \n",
    "    # Gives the best class for an x (predicting for just one x)\n",
    "    def bestClass(self, x):\n",
    "        bestcl = 0\n",
    "        bsc = 0\n",
    "        for cl in self.classes:\n",
    "            gp = self.gaussianProbD(cl, x)\n",
    "            sc = self.labelP[cl]\n",
    "            sc *= np.prod(gp)\n",
    "            \n",
    "            if(sc > bsc):\n",
    "                bestcl = cl\n",
    "                bsc = sc\n",
    "                \n",
    "        return bestcl\n",
    "    \n",
    "    # predicting a set of values\n",
    "    def predict(self, X):\n",
    "        yh = np.zeros(X.shape[0])\n",
    "        \n",
    "        for i in range(X.shape[0]):\n",
    "            yh[i] = self.bestClass(X[i, :])\n",
    "            \n",
    "        return yh"
   ]
  },
  {
   "cell_type": "markdown",
   "id": "4fec3ef8",
   "metadata": {},
   "source": [
    "### Fitting the model for different Cases"
   ]
  },
  {
   "cell_type": "markdown",
   "id": "15c514fa",
   "metadata": {},
   "source": [
    "#### 1. All columns"
   ]
  },
  {
   "cell_type": "code",
   "execution_count": 36,
   "id": "06ec20d1",
   "metadata": {},
   "outputs": [
    {
     "name": "stdout",
     "output_type": "stream",
     "text": [
      "Accuracy : 0.7935064935064935\n",
      "Recall : 0.25190839694656486\n",
      "Precision : 0.35106382978723405\n",
      "F1 Score : 0.29333333333333333\n"
     ]
    }
   ],
   "source": [
    "X_train,X_test,y_train,y_test = dosplit(main_df, allcomb, targ)\n",
    "X_train,y_train = duprows(X_train, y_train, dupar=2.75)\n",
    "\n",
    "mod = NaiveBayes()\n",
    "mod.fit(X_train, y_train)\n",
    "\n",
    "yhat_test = mod.predict(X_test)\n",
    "evaluate(y_test, yhat_test)"
   ]
  },
  {
   "cell_type": "markdown",
   "id": "4744df08",
   "metadata": {},
   "source": [
    "#### 2. Special Columns individually"
   ]
  },
  {
   "cell_type": "code",
   "execution_count": 37,
   "id": "a3efc68e",
   "metadata": {},
   "outputs": [
    {
     "name": "stdout",
     "output_type": "stream",
     "text": [
      "For age :\n",
      "Accuracy : 0.7766233766233767\n",
      "Recall : 0.24427480916030533\n",
      "Precision : 0.3047619047619048\n",
      "F1 Score : 0.2711864406779661\n",
      "\n",
      "For cigsPerDay :\n",
      "Accuracy : 0.8155844155844156\n",
      "Recall : 0.07633587786259542\n",
      "Precision : 0.3225806451612903\n",
      "F1 Score : 0.1234567901234568\n",
      "\n",
      "For totChol :\n",
      "Accuracy : 0.8116883116883117\n",
      "Recall : 0.04580152671755725\n",
      "Precision : 0.23076923076923078\n",
      "F1 Score : 0.07643312101910829\n",
      "\n",
      "For BMI :\n",
      "Accuracy : 0.8051948051948052\n",
      "Recall : 0.04580152671755725\n",
      "Precision : 0.1935483870967742\n",
      "F1 Score : 0.07407407407407407\n",
      "\n",
      "For heartRate :\n",
      "Accuracy : 0.8298701298701299\n",
      "Recall : 0\n",
      "Precision : 0\n",
      "F1 Score : 0\n",
      "\n",
      "For sysBP :\n",
      "Accuracy : 0.8\n",
      "Recall : 0.22137404580152673\n",
      "Precision : 0.35802469135802467\n",
      "F1 Score : 0.27358490566037735\n",
      "\n",
      "For glucose :\n",
      "Accuracy : 0.8246753246753247\n",
      "Recall : 0.07633587786259542\n",
      "Precision : 0.4166666666666667\n",
      "F1 Score : 0.12903225806451613\n",
      "\n"
     ]
    }
   ],
   "source": [
    "for col in specComb:\n",
    "    print(\"For\", col, ':')\n",
    "    X_train,X_test,y_train,y_test = dosplit(main_df, [col], targ)\n",
    "    X_train,y_train = duprows(X_train, y_train, dupar=2.75)\n",
    "\n",
    "    mod = NaiveBayes()\n",
    "    mod.fit(X_train, y_train)\n",
    "    \n",
    "    yhat_test = mod.predict(X_test)\n",
    "    evaluate(y_test, yhat_test)\n",
    "    print(\"\")"
   ]
  },
  {
   "cell_type": "markdown",
   "id": "c35a219e",
   "metadata": {},
   "source": [
    "#### 3. Special Columns Together\n",
    "\n",
    "i.e. the combination of age, cigsPerDay, totChol, BMI, heartRate, sysBP and glucose"
   ]
  },
  {
   "cell_type": "code",
   "execution_count": 38,
   "id": "3f66508c",
   "metadata": {},
   "outputs": [
    {
     "name": "stdout",
     "output_type": "stream",
     "text": [
      "Accuracy : 0.8194805194805195\n",
      "Recall : 0.3511450381679389\n",
      "Precision : 0.46\n",
      "F1 Score : 0.3982683982683982\n"
     ]
    }
   ],
   "source": [
    "X_train,X_test,y_train,y_test = dosplit(main_df, specComb, targ)\n",
    "X_train,y_train = duprows(X_train, y_train, dupar=2.75)\n",
    "\n",
    "mod = NaiveBayes()\n",
    "mod.fit(X_train, y_train)\n",
    "\n",
    "yhat_test = lreg.predict(X_test)\n",
    "evaluate(y_test, yhat_test)"
   ]
  },
  {
   "cell_type": "markdown",
   "id": "9a41ca2c",
   "metadata": {},
   "source": [
    "## D. Naive Bayes Classifier using SKLearn*\n",
    "\n",
    "-----\n",
    "\n",
    "\\* This was not required but done for assessment of the implemented models"
   ]
  },
  {
   "cell_type": "code",
   "execution_count": 39,
   "id": "68ca6844",
   "metadata": {},
   "outputs": [
    {
     "name": "stdout",
     "output_type": "stream",
     "text": [
      "Accuracy : 0.7935064935064935\n",
      "Recall : 0.25190839694656486\n",
      "Precision : 0.35106382978723405\n",
      "F1 Score : 0.29333333333333333\n"
     ]
    }
   ],
   "source": [
    "#Import Gaussian Naive Bayes model\n",
    "from sklearn.naive_bayes import GaussianNB\n",
    "\n",
    "X_train,X_test,y_train,y_test = dosplit(main_df, allcomb, targ)\n",
    "X_train,y_train = duprows(X_train, y_train, dupar=2.75)\n",
    "model = GaussianNB()\n",
    "model.fit(X_train,y_train)\n",
    "\n",
    "yhat_test = model.predict(X_test)\n",
    "evaluate(y_test, yhat_test)"
   ]
  },
  {
   "cell_type": "markdown",
   "id": "d9009800",
   "metadata": {},
   "source": [
    "## E. SKLearn Logistic Regression*\n",
    "\n",
    "-----\n",
    "\n",
    "\\* This was not required but done for assessment of the implemented models"
   ]
  },
  {
   "cell_type": "code",
   "execution_count": 40,
   "id": "1373dd46",
   "metadata": {},
   "outputs": [],
   "source": [
    "from sklearn.linear_model import LogisticRegression\n",
    "from sklearn.metrics import f1_score\n",
    "from sklearn.metrics import precision_score"
   ]
  },
  {
   "cell_type": "code",
   "execution_count": 41,
   "id": "6c92566c",
   "metadata": {},
   "outputs": [
    {
     "name": "stdout",
     "output_type": "stream",
     "text": [
      "Accuracy : 0.8116883116883117\n",
      "Recall : 0.3969465648854962\n",
      "Precision : 0.4406779661016949\n",
      "F1 Score : 0.4176706827309237\n"
     ]
    }
   ],
   "source": [
    "X_train,X_test,y_train,y_test = dosplit(main_df, allcomb, targ)\n",
    "X_train,y_train = duprows(X_train, y_train, dupar=2.75)\n",
    "\n",
    "lreg = LogisticRegression(solver='lbfgs', max_iter=4000)\n",
    "lreg.fit(X_train, y_train)\n",
    "yhat_test = lreg.predict(X_test)\n",
    "evaluate(y_test, yhat_test)"
   ]
  }
 ],
 "metadata": {
  "kernelspec": {
   "display_name": "Python 3",
   "language": "python",
   "name": "python3"
  },
  "language_info": {
   "codemirror_mode": {
    "name": "ipython",
    "version": 3
   },
   "file_extension": ".py",
   "mimetype": "text/x-python",
   "name": "python",
   "nbconvert_exporter": "python",
   "pygments_lexer": "ipython3",
   "version": "3.9.1"
  }
 },
 "nbformat": 4,
 "nbformat_minor": 5
}
